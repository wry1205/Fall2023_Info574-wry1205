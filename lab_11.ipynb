{
 "cells": [
  {
   "cell_type": "markdown",
   "metadata": {},
   "source": [
    "This lab will be done in Python. For the lab to be complete, all questions must be answered. We will be using the segmentData.csv dataset. This is retail data for customers. The customers have already been assigned to segments and we want to measure the segment performance in dollars."
   ]
  },
  {
   "cell_type": "markdown",
   "metadata": {},
   "source": [
    "# Section 1: Exploratory Data Analysis"
   ]
  },
  {
   "cell_type": "markdown",
   "metadata": {},
   "source": [
    "1. Describe the centroids of the 8 segments by creating a table of the mean of each variable for the segment. Sex will need to be recoded."
   ]
  },
  {
   "cell_type": "markdown",
   "metadata": {},
   "source": [
    "2. Explain differences you see between segments.\n",
    "\n",
    "a. How do segments 1 & 2 differ?"
   ]
  },
  {
   "cell_type": "markdown",
   "metadata": {},
   "source": [
    "b. What are the differences between 5 & 7?"
   ]
  },
  {
   "cell_type": "markdown",
   "metadata": {},
   "source": [
    "3. If you were going to create an advertising campaign to target Millennials (born between 1981 – 1996) who weren’t buying many items, which segment would you focus on?"
   ]
  },
  {
   "cell_type": "markdown",
   "metadata": {},
   "source": [
    "Section 2: Effectiveness Metrics\n"
   ]
  },
  {
   "cell_type": "markdown",
   "metadata": {},
   "source": [
    "1. Compute the gain, cumulative gain, lift, and cumulative lift for each segment. Don’t forget to\n",
    "sort to compute the cumulative statistics. Use the following formulas.\n",
    "𝑔𝑎𝑖𝑛 =\n",
    "𝑠𝑒𝑔𝑚𝑒𝑛𝑡\n",
    "𝑡𝑜𝑡𝑎𝑙 𝑜𝑓 𝑎𝑙𝑙 𝑠𝑒𝑔𝑚𝑒𝑛𝑡𝑠\n",
    "𝑙𝑖𝑓𝑡 = 100 ∗ (\n",
    "𝑠𝑒𝑔𝑚𝑒𝑛𝑡\n",
    "𝑒𝑥𝑝𝑒𝑐𝑡𝑒𝑑 𝑣𝑎𝑙𝑢𝑒 𝑜𝑓 𝑠𝑒𝑔𝑚𝑒𝑛𝑡\n",
    "− 1)\n"
   ]
  },
  {
   "cell_type": "markdown",
   "metadata": {},
   "source": [
    "2. Gain\n",
    "a. Plot the gain as a bar chart.\n"
   ]
  },
  {
   "cell_type": "markdown",
   "metadata": {},
   "source": [
    "b. Plot the cumulative gain as a line chart.\n"
   ]
  },
  {
   "cell_type": "markdown",
   "metadata": {},
   "source": [
    "c. If you were going to create a rewards program for your best customers, which segments\n",
    "would you target?\n"
   ]
  },
  {
   "cell_type": "markdown",
   "metadata": {},
   "source": [
    "3. Lift\n",
    "a. Plot the lift as a bar chart.\n"
   ]
  },
  {
   "cell_type": "markdown",
   "metadata": {},
   "source": [
    "b. Plot the cumulative lift as a line chart.\n"
   ]
  },
  {
   "cell_type": "markdown",
   "metadata": {},
   "source": [
    "c. Which segments are generating less than expected sales?"
   ]
  }
 ],
 "metadata": {
  "language_info": {
   "name": "python"
  },
  "orig_nbformat": 4
 },
 "nbformat": 4,
 "nbformat_minor": 2
}
