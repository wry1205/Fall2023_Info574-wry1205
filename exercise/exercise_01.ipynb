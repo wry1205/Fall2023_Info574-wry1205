{
 "cells": [
  {
   "cell_type": "markdown",
   "id": "aa9dee7b",
   "metadata": {},
   "source": [
    "## Marcus Ruiyi Wang 520674"
   ]
  },
  {
   "cell_type": "markdown",
   "id": "14358c94",
   "metadata": {},
   "source": [
    "# Section 1: General programming"
   ]
  },
  {
   "cell_type": "markdown",
   "id": "903787e7",
   "metadata": {},
   "source": [
    "**1. Write a function DateOffset that takes 2 parameters, a string d in the format YYYY-MM-DD and an integer n. The function should return the date that is n days before (if n is negative) or after (if n is positive) d.**"
   ]
  },
  {
   "cell_type": "code",
   "execution_count": null,
   "id": "d96506d8",
   "metadata": {},
   "outputs": [],
   "source": [
    "def isLeapYear(year):\n",
    "    if year % 400 == 0:\n",
    "        return True\n",
    "    if year % 100 == 0:\n",
    "        return False\n",
    "    if year % 4 == 0:\n",
    "        return True\n",
    "\n",
    "def daysOfMonth(year, month):\n",
    "    if month in [1,3,5,7,8,10,12]:\n",
    "        return 31\n",
    "    if month == 2:\n",
    "        if isLeapYear(year):\n",
    "            return 29\n",
    "        else: return 28\n",
    "    if month in [4,6,9,11]:\n",
    "        return 30\n",
    "\n",
    "def format(year, month, day):\n",
    "    year = str(year)\n",
    "    month = str(month)\n",
    "    day = str(day)\n",
    "    if len(month) == 1:\n",
    "        month = '0' + month\n",
    "    if len(day) == 1:\n",
    "        day = '0' + day\n",
    "    return year + '-' + month + '-' + day\n",
    "        \n",
    "    \n",
    "def addDays(year, month, day, n):\n",
    "    new_day = day + n\n",
    "    if new_day > daysOfMonth(year, month):\n",
    "        new_day -= daysOfMonth(year, month)\n",
    "        if month == 12:\n",
    "            new_month = 1\n",
    "            new_year = year + 1\n",
    "            return format(new_year, new_month, new_day)\n",
    "        else:\n",
    "            new_year = year\n",
    "            new_month = month + 1\n",
    "            return format(new_year, new_month, new_day)\n",
    "    elif new_day < 1:\n",
    "        if month == 1:\n",
    "            new_year = year - 1\n",
    "            new_month = 12\n",
    "            new_day += daysOfMonth(new_year, new_month)\n",
    "            return format(new_year, new_month, new_day)\n",
    "        else:\n",
    "            new_year = year\n",
    "            new_month = month - 1\n",
    "            new_day += daysOfMonth(new_year, new_month)\n",
    "            return format(new_year, new_month, new_day)\n",
    "    else:\n",
    "        new_year = year\n",
    "        new_month = month\n",
    "        return format(new_year, new_month, new_day)"
   ]
  },
  {
   "cell_type": "code",
   "execution_count": null,
   "id": "662a04d1",
   "metadata": {},
   "outputs": [],
   "source": [
    "def DataOffset(d,n):\n",
    "    year = d[:4]\n",
    "    month = d[5:7]\n",
    "    day = d[8:]\n",
    "    return addDays(int(year), int(month), int(day), n)"
   ]
  },
  {
   "cell_type": "code",
   "execution_count": null,
   "id": "70feaf84",
   "metadata": {},
   "outputs": [
    {
     "name": "stdout",
     "output_type": "stream",
     "text": [
      "2002-12-06\n",
      "2003-01-04\n",
      "2002-11-25\n"
     ]
    }
   ],
   "source": [
    "print(DataOffset('2002-12-05',1))\n",
    "print(DataOffset('2002-12-05',30))\n",
    "print(DataOffset('2002-12-05',-10))"
   ]
  },
  {
   "cell_type": "markdown",
   "id": "b659ad26",
   "metadata": {},
   "source": [
    "**2. Write a function Factorial, that takes a positive integer n and returns n factorial (n!)**"
   ]
  },
  {
   "cell_type": "code",
   "execution_count": null,
   "id": "e21811af",
   "metadata": {},
   "outputs": [],
   "source": [
    "def Factorial(n):\n",
    "    if n < 1:\n",
    "        print('Invalid input!')\n",
    "    else:\n",
    "        result = 1\n",
    "        i = 1\n",
    "        while i <= n:\n",
    "            result *= i\n",
    "            i = i + 1\n",
    "        return result"
   ]
  },
  {
   "cell_type": "code",
   "execution_count": null,
   "id": "6af42ed4",
   "metadata": {},
   "outputs": [
    {
     "name": "stdout",
     "output_type": "stream",
     "text": [
      "6\n",
      "Invalid input!\n",
      "None\n"
     ]
    }
   ],
   "source": [
    "print(Factorial(3))\n",
    "print(Factorial(-1))"
   ]
  },
  {
   "cell_type": "markdown",
   "id": "d076e0b7",
   "metadata": {},
   "source": [
    "**3. Write a function LongestString, that takes a list of strings and returns a list with the longest strings. You can assume that the list will have 10 or fewer elements and the strings will be 10 or fewer characters.**"
   ]
  },
  {
   "cell_type": "code",
   "execution_count": null,
   "id": "eacb0260",
   "metadata": {},
   "outputs": [],
   "source": [
    "def LongestString(list):\n",
    "    i = 0\n",
    "    result = []\n",
    "    standard = 0\n",
    "    for i in range(len(list)):\n",
    "        standard = max(standard, len(list[i]))\n",
    "        if standard == len(list[i]):\n",
    "            result.append(list[i])\n",
    "    return result"
   ]
  },
  {
   "cell_type": "code",
   "execution_count": null,
   "id": "458f8fd1",
   "metadata": {},
   "outputs": [
    {
     "name": "stdout",
     "output_type": "stream",
     "text": [
      "['aba', 'vcd', 'aba']\n"
     ]
    }
   ],
   "source": [
    "print(LongestString([\"aba\", \"aa\", \"ad\", \"vcd\", \"aba\"]))"
   ]
  },
  {
   "cell_type": "markdown",
   "id": "ffd004d4",
   "metadata": {},
   "source": [
    "**4. Write a function IsPalindrome, that takes a string and checks if it is a palindrome. The function should return a Boolean value of true or false.**"
   ]
  },
  {
   "cell_type": "code",
   "execution_count": null,
   "id": "d748361d",
   "metadata": {},
   "outputs": [],
   "source": [
    "def IsPalindrome(word):\n",
    "    if word == word[::-1]:\n",
    "        return True\n",
    "    if word != word[::-1]:\n",
    "        return False"
   ]
  },
  {
   "cell_type": "code",
   "execution_count": null,
   "id": "37ba9ed5",
   "metadata": {},
   "outputs": [
    {
     "name": "stdout",
     "output_type": "stream",
     "text": [
      "True\n",
      "False\n"
     ]
    }
   ],
   "source": [
    "print(IsPalindrome('racecar'))\n",
    "print(IsPalindrome('racecars'))"
   ]
  },
  {
   "cell_type": "markdown",
   "id": "7ebae939",
   "metadata": {},
   "source": [
    "**5. Write a function MakeChange that takes 1 parameter, an integer c, between 1 and 99. Using US coins of denominations ```$0.01, $0.05, $0.10, $0.25, $0.50``` determine the combination needed to make c cents using the fewest coins. Return a dictionary where the key is the coin type and the value is how many of that coin are needed.**"
   ]
  },
  {
   "cell_type": "code",
   "execution_count": null,
   "id": "96857bae",
   "metadata": {},
   "outputs": [],
   "source": [
    "def format(result):\n",
    "    print('{$0.01:',result[0],',$0.05:',result[1],',$0.10:',result[2],',$0.25:',result[3],',$0.50:',result[4],'}')\n",
    "\n",
    "def MakeChange(c):\n",
    "    if c < 1 or c > 99:\n",
    "        print('Invalid input!')\n",
    "    else:\n",
    "        c = c / 100\n",
    "        half, quarter, dime, nickel, cent = 0, 0, 0, 0, 0\n",
    "        half = int((c-half*0.50-quarter*0.25-dime*0.10-nickel*0.05-cent*0.01)/0.5)\n",
    "        quarter = int((c-half*0.50-quarter*0.25-dime*0.10-nickel*0.05-cent*0.01)/0.25)\n",
    "        dime = int((c-half*0.50-quarter*0.25-dime*0.10-nickel*0.05-cent*0.01)/0.1)\n",
    "        nickel = int((c-half*0.50-quarter*0.25-dime*0.10-nickel*0.05-cent*0.01)/0.05)\n",
    "        cent = int((c-half*0.50-quarter*0.25-dime*0.10-nickel*0.05-cent*0.01)/0.01)\n",
    "    return format([cent, nickel, dime, quarter, half])"
   ]
  },
  {
   "cell_type": "code",
   "execution_count": null,
   "id": "475e45b5",
   "metadata": {},
   "outputs": [
    {
     "name": "stdout",
     "output_type": "stream",
     "text": [
      "{$0.01: 1 ,$0.05: 0 ,$0.10: 0 ,$0.25: 1 ,$0.50: 0 }\n",
      "None\n"
     ]
    }
   ],
   "source": [
    "print(MakeChange(26))"
   ]
  }
 ],
 "metadata": {
  "kernelspec": {
   "display_name": "Python 3 (ipykernel)",
   "language": "python",
   "name": "python3"
  },
  "language_info": {
   "codemirror_mode": {
    "name": "ipython",
    "version": 3
   },
   "file_extension": ".py",
   "mimetype": "text/x-python",
   "name": "python",
   "nbconvert_exporter": "python",
   "pygments_lexer": "ipython3",
   "version": "3.9.7"
  }
 },
 "nbformat": 4,
 "nbformat_minor": 5
}
