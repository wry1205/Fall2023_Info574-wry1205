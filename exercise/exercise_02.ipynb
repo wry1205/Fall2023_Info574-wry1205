{
 "cells": [
  {
   "cell_type": "markdown",
   "id": "e0ad6da7",
   "metadata": {},
   "source": [
    "# Section 1: Querying a database in python"
   ]
  },
  {
   "cell_type": "markdown",
   "id": "745b74dc",
   "metadata": {},
   "source": [
    "**1. Connect to your local postgres instance from python (use the pyscopg2 library).**"
   ]
  },
  {
   "cell_type": "code",
   "execution_count": 1,
   "id": "7b9cfc33",
   "metadata": {},
   "outputs": [],
   "source": [
    "import psycopg2\n",
    "import pandas as pd\n",
    "import seaborn as sns\n",
    "import matplotlib.pyplot as plt\n",
    "import scipy.stats as stats\n",
    "import numpy as np\n",
    "\n",
    "conn = psycopg2.connect(\n",
    "    host=\"localhost\",\n",
    "    database=\"dvdrental\",\n",
    "    user=\"postgres\",\n",
    "    password=\"password\"\n",
    ")"
   ]
  },
  {
   "cell_type": "markdown",
   "id": "bc65909f",
   "metadata": {},
   "source": [
    "**2. Write a query to return a dataset with film, rental, and payment information. Your dataset\n",
    "should have multiple rows per film, one for each time the film was rented and the amount spent\n",
    "on each rental. Create a dataframe with this information.**"
   ]
  },
  {
   "cell_type": "code",
   "execution_count": 2,
   "id": "86132dc3",
   "metadata": {},
   "outputs": [
    {
     "name": "stdout",
     "output_type": "stream",
     "text": [
      "   film_id            title  rental_id  amount\n",
      "0      749      Rules Human       1520    7.99\n",
      "1      552  Majestic Floats       1778    1.99\n",
      "2      551      Maiden Home       1849    7.99\n",
      "3      445      Hyde Doctor       2829    2.99\n",
      "4      563   Massacre Usual       3130    7.99\n"
     ]
    }
   ],
   "source": [
    "query = '''\n",
    "    SELECT\n",
    "        f.film_id,\n",
    "        f.title,\n",
    "        r.rental_id,\n",
    "        p.amount\n",
    "    FROM\n",
    "        film f\n",
    "    JOIN\n",
    "        inventory inv ON f.film_id = inv.film_id\n",
    "    JOIN\n",
    "        rental r ON inv.inventory_id = r.inventory_id\n",
    "    JOIN\n",
    "        payment p ON r.rental_id = p.rental_id\n",
    "'''\n",
    "\n",
    "df = pd.read_sql_query(query, conn)\n",
    "\n",
    "print(df.head())"
   ]
  },
  {
   "cell_type": "markdown",
   "id": "b3fc4784",
   "metadata": {},
   "source": [
    "**3. Create a dataframe from the customer table.**"
   ]
  },
  {
   "cell_type": "code",
   "execution_count": 3,
   "id": "87f36b61",
   "metadata": {},
   "outputs": [
    {
     "name": "stdout",
     "output_type": "stream",
     "text": [
      "   customer_id  store_id first_name last_name  \\\n",
      "0          524         1      Jared       Ely   \n",
      "1            1         1       Mary     Smith   \n",
      "2            2         1   Patricia   Johnson   \n",
      "3            3         1      Linda  Williams   \n",
      "4            4         2    Barbara     Jones   \n",
      "\n",
      "                                 email  address_id  activebool create_date  \\\n",
      "0         jared.ely@sakilacustomer.org         530        True  2006-02-14   \n",
      "1        mary.smith@sakilacustomer.org           5        True  2006-02-14   \n",
      "2  patricia.johnson@sakilacustomer.org           6        True  2006-02-14   \n",
      "3    linda.williams@sakilacustomer.org           7        True  2006-02-14   \n",
      "4     barbara.jones@sakilacustomer.org           8        True  2006-02-14   \n",
      "\n",
      "              last_update  active  \n",
      "0 2013-05-26 14:49:45.738       1  \n",
      "1 2013-05-26 14:49:45.738       1  \n",
      "2 2013-05-26 14:49:45.738       1  \n",
      "3 2013-05-26 14:49:45.738       1  \n",
      "4 2013-05-26 14:49:45.738       1  \n"
     ]
    }
   ],
   "source": [
    "query = \"SELECT * FROM customer\"\n",
    "df_customer = pd.read_sql_query(query, conn)\n",
    "\n",
    "print(df_customer.head())"
   ]
  },
  {
   "cell_type": "markdown",
   "id": "fb174ba9",
   "metadata": {},
   "source": [
    "# Section 2: Manipulating dataframes"
   ]
  },
  {
   "cell_type": "markdown",
   "id": "d18f2027",
   "metadata": {},
   "source": [
    "**1. Create a column for customer name that has the first name and last name in the same column.**"
   ]
  },
  {
   "cell_type": "code",
   "execution_count": 4,
   "id": "296e0e5f",
   "metadata": {},
   "outputs": [
    {
     "name": "stdout",
     "output_type": "stream",
     "text": [
      "                      title  amount first_name last_name  active  store_id  \\\n",
      "0               Rules Human    7.99      Peter    Menard       1         1   \n",
      "1           Majestic Floats    1.99      Peter    Menard       1         1   \n",
      "2               Maiden Home    7.99      Peter    Menard       1         1   \n",
      "3               Hyde Doctor    2.99      Peter    Menard       1         1   \n",
      "4            Massacre Usual    7.99      Peter    Menard       1         1   \n",
      "...                     ...     ...        ...       ...     ...       ...   \n",
      "14591          Driver Annie    2.99   Courtney       Day       1         1   \n",
      "14592            Swarm Gold    0.99     Vickie    Brewer       1         2   \n",
      "14593  Drifter Commandments    4.99     Mattie   Hoffman       1         2   \n",
      "14594          Earth Vision    0.99      Hilda   Hopkins       1         1   \n",
      "14595           Flying Hook    2.99  Gwendolyn       May       1         1   \n",
      "\n",
      "                                   email   customer_name  \n",
      "0        peter.menard@sakilacustomer.org    Peter Menard  \n",
      "1        peter.menard@sakilacustomer.org    Peter Menard  \n",
      "2        peter.menard@sakilacustomer.org    Peter Menard  \n",
      "3        peter.menard@sakilacustomer.org    Peter Menard  \n",
      "4        peter.menard@sakilacustomer.org    Peter Menard  \n",
      "...                                  ...             ...  \n",
      "14591    courtney.day@sakilacustomer.org    Courtney Day  \n",
      "14592   vickie.brewer@sakilacustomer.org   Vickie Brewer  \n",
      "14593  mattie.hoffman@sakilacustomer.org  Mattie Hoffman  \n",
      "14594   hilda.hopkins@sakilacustomer.org   Hilda Hopkins  \n",
      "14595   gwendolyn.may@sakilacustomer.org   Gwendolyn May  \n",
      "\n",
      "[14596 rows x 8 columns]\n"
     ]
    }
   ],
   "source": [
    "query = '''\n",
    "    SELECT\n",
    "        f.title,\n",
    "        p.amount,\n",
    "        c.first_name,\n",
    "        c.last_name,\n",
    "        c.active,\n",
    "        c.store_id,\n",
    "        c.email\n",
    "    FROM film f\n",
    "    JOIN inventory inv ON f.film_id = inv.film_id\n",
    "    JOIN rental r ON inv.inventory_id = r.inventory_id\n",
    "    JOIN payment p ON r.rental_id = p.rental_id\n",
    "    JOIN customer c ON p.customer_id = c.customer_id\n",
    "'''\n",
    "\n",
    "df = pd.read_sql_query(query, conn)\n",
    "\n",
    "df['customer_name'] = df['first_name'] + ' ' + df['last_name']\n",
    "\n",
    "print(df)"
   ]
  },
  {
   "cell_type": "markdown",
   "id": "1d0ce39e",
   "metadata": {},
   "source": [
    "**2. Remove any inactive customers from the dataframe\n",
    "Hint: use the active field**"
   ]
  },
  {
   "cell_type": "code",
   "execution_count": 5,
   "id": "8422a044",
   "metadata": {},
   "outputs": [
    {
     "name": "stdout",
     "output_type": "stream",
     "text": [
      "                      title  amount first_name last_name  active  store_id  \\\n",
      "0               Rules Human    7.99      Peter    Menard       1         1   \n",
      "1           Majestic Floats    1.99      Peter    Menard       1         1   \n",
      "2               Maiden Home    7.99      Peter    Menard       1         1   \n",
      "3               Hyde Doctor    2.99      Peter    Menard       1         1   \n",
      "4            Massacre Usual    7.99      Peter    Menard       1         1   \n",
      "...                     ...     ...        ...       ...     ...       ...   \n",
      "14591          Driver Annie    2.99   Courtney       Day       1         1   \n",
      "14592            Swarm Gold    0.99     Vickie    Brewer       1         2   \n",
      "14593  Drifter Commandments    4.99     Mattie   Hoffman       1         2   \n",
      "14594          Earth Vision    0.99      Hilda   Hopkins       1         1   \n",
      "14595           Flying Hook    2.99  Gwendolyn       May       1         1   \n",
      "\n",
      "                                   email   customer_name  \n",
      "0        peter.menard@sakilacustomer.org    Peter Menard  \n",
      "1        peter.menard@sakilacustomer.org    Peter Menard  \n",
      "2        peter.menard@sakilacustomer.org    Peter Menard  \n",
      "3        peter.menard@sakilacustomer.org    Peter Menard  \n",
      "4        peter.menard@sakilacustomer.org    Peter Menard  \n",
      "...                                  ...             ...  \n",
      "14591    courtney.day@sakilacustomer.org    Courtney Day  \n",
      "14592   vickie.brewer@sakilacustomer.org   Vickie Brewer  \n",
      "14593  mattie.hoffman@sakilacustomer.org  Mattie Hoffman  \n",
      "14594   hilda.hopkins@sakilacustomer.org   Hilda Hopkins  \n",
      "14595   gwendolyn.may@sakilacustomer.org   Gwendolyn May  \n",
      "\n",
      "[14227 rows x 8 columns]\n"
     ]
    }
   ],
   "source": [
    "df = df[df['active'] == 1]\n",
    "\n",
    "print(df)"
   ]
  },
  {
   "cell_type": "markdown",
   "id": "4b421c76",
   "metadata": {},
   "source": [
    "**3. Change the email addresses to be ‘joe.person@wustl.edu’, but only when their store_id is an even number.**\n",
    "\n",
    "Hint: use apply to run a function over the dataframe, don’t forget to select the correct axis."
   ]
  },
  {
   "cell_type": "code",
   "execution_count": 6,
   "id": "f294198c",
   "metadata": {},
   "outputs": [
    {
     "name": "stdout",
     "output_type": "stream",
     "text": [
      "                      title  amount first_name last_name  active  store_id  \\\n",
      "0               Rules Human    7.99      Peter    Menard       1         1   \n",
      "1           Majestic Floats    1.99      Peter    Menard       1         1   \n",
      "2               Maiden Home    7.99      Peter    Menard       1         1   \n",
      "3               Hyde Doctor    2.99      Peter    Menard       1         1   \n",
      "4            Massacre Usual    7.99      Peter    Menard       1         1   \n",
      "...                     ...     ...        ...       ...     ...       ...   \n",
      "14591          Driver Annie    2.99   Courtney       Day       1         1   \n",
      "14592            Swarm Gold    0.99     Vickie    Brewer       1         2   \n",
      "14593  Drifter Commandments    4.99     Mattie   Hoffman       1         2   \n",
      "14594          Earth Vision    0.99      Hilda   Hopkins       1         1   \n",
      "14595           Flying Hook    2.99  Gwendolyn       May       1         1   \n",
      "\n",
      "                                  email   customer_name  \n",
      "0       peter.menard@sakilacustomer.org    Peter Menard  \n",
      "1       peter.menard@sakilacustomer.org    Peter Menard  \n",
      "2       peter.menard@sakilacustomer.org    Peter Menard  \n",
      "3       peter.menard@sakilacustomer.org    Peter Menard  \n",
      "4       peter.menard@sakilacustomer.org    Peter Menard  \n",
      "...                                 ...             ...  \n",
      "14591   courtney.day@sakilacustomer.org    Courtney Day  \n",
      "14592              joe.person@wustl.edu   Vickie Brewer  \n",
      "14593              joe.person@wustl.edu  Mattie Hoffman  \n",
      "14594  hilda.hopkins@sakilacustomer.org   Hilda Hopkins  \n",
      "14595  gwendolyn.may@sakilacustomer.org   Gwendolyn May  \n",
      "\n",
      "[14227 rows x 8 columns]\n"
     ]
    }
   ],
   "source": [
    "def update_email(row):\n",
    "    if row['store_id'] % 2 == 0:\n",
    "        return 'joe.person@wustl.edu'\n",
    "    return row['email']\n",
    "\n",
    "df['email'] = df.apply(update_email, axis=1)\n",
    "\n",
    "print(df)"
   ]
  },
  {
   "cell_type": "markdown",
   "id": "ff8cf75b",
   "metadata": {},
   "source": [
    "# Section 3: Visualizations"
   ]
  },
  {
   "cell_type": "markdown",
   "id": "dffede47",
   "metadata": {},
   "source": [
    "**1. How much does each customer tend to spend in aggregate?**\n",
    "\n",
    "Clarification: You want to first create total spend by customer, then you want to visualize that distribution, each customer being an observation. A box and whisker plot would be a good visualization."
   ]
  },
  {
   "cell_type": "code",
   "execution_count": 7,
   "id": "459d9c2a",
   "metadata": {},
   "outputs": [
    {
     "data": {
      "image/png": "[encoded data removed]",
      "text/plain": [
       "<Figure size 720x432 with 1 Axes>"
      ]
     },
     "metadata": {
      "needs_background": "light"
     },
     "output_type": "display_data"
    }
   ],
   "source": [
    "customer_spend = df.groupby('customer_name')['amount'].sum()\n",
    "\n",
    "plt.figure(figsize = (10, 6))\n",
    "sns.boxplot(data = customer_spend.values)\n",
    "plt.xlabel('Customer')\n",
    "plt.ylabel('Total Spend')\n",
    "plt.title('Distribution of Customer Spend')\n",
    "plt.xticks(rotation = 90)\n",
    "plt.show()"
   ]
  },
  {
   "cell_type": "markdown",
   "id": "717b4c7b",
   "metadata": {},
   "source": [
    "**2. What does the distribution of film revenue look like?**\n",
    "\n",
    "Clarification: You want to first calculate the revenue by film, you can sum the rental rate for each instance that the film was rented using the dataframe you created in section 1 part 2. A histogram would be a good visualization."
   ]
  },
  {
   "cell_type": "code",
   "execution_count": 8,
   "id": "b00e89ae",
   "metadata": {},
   "outputs": [
    {
     "data": {
      "image/png": "[encoded data removed]",
      "text/plain": [
       "<Figure size 720x432 with 1 Axes>"
      ]
     },
     "metadata": {
      "needs_background": "light"
     },
     "output_type": "display_data"
    }
   ],
   "source": [
    "film_revenue = df.groupby('title')['amount'].sum()\n",
    "\n",
    "plt.figure(figsize = (10, 6))\n",
    "plt.hist(film_revenue.values, bins = 30, edgecolor = 'black')\n",
    "plt.xlabel('Film Revenue')\n",
    "plt.ylabel('Frequency')\n",
    "plt.title('Distribution of Film Revenue')\n",
    "plt.show()"
   ]
  },
  {
   "cell_type": "markdown",
   "id": "c3859a60",
   "metadata": {},
   "source": [
    "# Section 4: Analysis"
   ]
  },
  {
   "cell_type": "markdown",
   "id": "8cccd949",
   "metadata": {},
   "source": [
    "Clarification: Use the appropriate statistical test to answer the following questions. Please\n",
    "annotate your code with which test you are using, the result of the test, and the interpretation.\n",
    "\n",
    "**1. On average, is the rental rate the same across movie ratings, treat each film as an observation?**"
   ]
  },
  {
   "cell_type": "code",
   "execution_count": 9,
   "id": "24ca99b8",
   "metadata": {},
   "outputs": [
    {
     "name": "stdout",
     "output_type": "stream",
     "text": [
      "ANOVA Test - Rental Rate across Movie Ratings:\n",
      "F-statistic: 15.196036667169755\n",
      "p-value: 2.0541256769150715e-12\n",
      "There is a significant difference in rental rates across movie ratings.\n"
     ]
    }
   ],
   "source": [
    "query = '''\n",
    "    SELECT\n",
    "        f.film_id,\n",
    "        f.title,\n",
    "        f.rating,\n",
    "        f.rental_rate,\n",
    "        inv.store_id,\n",
    "        f.description\n",
    "    FROM film f\n",
    "    JOIN inventory inv ON f.film_id = inv.film_id\n",
    "    JOIN film_actor f_a ON f.film_id = f_a.film_id\n",
    "'''\n",
    "\n",
    "df = pd.read_sql_query(query, conn)\n",
    "\n",
    "# one-way ANOVA test\n",
    "result = stats.f_oneway(df[df['rating'] == 'G']['rental_rate'],\n",
    "                        df[df['rating'] == 'PG']['rental_rate'],\n",
    "                        df[df['rating'] == 'PG-13']['rental_rate'],\n",
    "                        df[df['rating'] == 'R']['rental_rate'],\n",
    "                        df[df['rating'] == 'NC-17']['rental_rate'])\n",
    "\n",
    "print(\"ANOVA Test - Rental Rate across Movie Ratings:\")\n",
    "print(\"F-statistic:\", result.statistic)\n",
    "print(\"p-value:\", result.pvalue)\n",
    "\n",
    "if result.pvalue < 0.05:\n",
    "    print(\"There is a significant difference in rental rates across movie ratings.\")\n",
    "else:\n",
    "    print(\"There is no significant difference in rental rates across movie ratings.\")"
   ]
  },
  {
   "cell_type": "markdown",
   "id": "76b2bca0",
   "metadata": {},
   "source": [
    "**2. Across the various film ratings, are we observing the same number of movies rented at store 2\n",
    "and store 1?**"
   ]
  },
  {
   "cell_type": "code",
   "execution_count": 10,
   "id": "51ab6cbd",
   "metadata": {},
   "outputs": [
    {
     "name": "stdout",
     "output_type": "stream",
     "text": [
      "Chi-square Test - Film Ratings vs. Rental Counts across Stores:\n",
      "Chi-square statistic: 19.70668551112727\n",
      "p-value: 0.0005705728881450246\n",
      "There is a significant difference in the number of movies rented at stores 1 and 2 across film ratings.\n"
     ]
    }
   ],
   "source": [
    "contingency_table = pd.crosstab(df['rating'], df['store_id'])\n",
    "\n",
    "# Chi-square test of independence\n",
    "result = stats.chi2_contingency(contingency_table)\n",
    "\n",
    "print(\"Chi-square Test - Film Ratings vs. Rental Counts across Stores:\")\n",
    "print(\"Chi-square statistic:\", result[0])\n",
    "print(\"p-value:\", result[1])\n",
    "\n",
    "if result[1] < 0.05:\n",
    "    print(\"There is a significant difference in the number of movies rented at stores 1 and 2 across film ratings.\")\n",
    "else:\n",
    "    print(\"There is no significant difference in the number of movies rented at stores 1 and 2 across film ratings.\")"
   ]
  },
  {
   "cell_type": "markdown",
   "id": "0e104729",
   "metadata": {},
   "source": [
    "**3. On average, do films with a character of a ‘robot’ generate the same amount of revenue (use\n",
    "rental rate) as films that feature a ‘teacher’?**\n",
    "\n",
    "Hint: sum the rental rate by film across rentals to get revenue by film."
   ]
  },
  {
   "cell_type": "code",
   "execution_count": 11,
   "id": "13020716",
   "metadata": {},
   "outputs": [
    {
     "name": "stdout",
     "output_type": "stream",
     "text": [
      "T-test - Revenue Comparison between Films with 'robot' and 'teacher' Characters:\n",
      "t-statistic: -2.6201824467142196\n",
      "p-value: 0.0088248141084245\n",
      "There is a significant difference in the average revenue between films with 'robot' and 'teacher' characters.\n"
     ]
    }
   ],
   "source": [
    "robot_films = df[df['description'].str.contains('robot', case = False)]['rental_rate']\n",
    "teacher_films = df[df['description'].str.contains('teacher', case = False)]['rental_rate']\n",
    "\n",
    "# two-sample t-test\n",
    "result = stats.ttest_ind(robot_films, teacher_films)\n",
    "\n",
    "print(\"T-test - Revenue Comparison between Films with 'robot' and 'teacher' Characters:\")\n",
    "print(\"t-statistic:\", result.statistic)\n",
    "print(\"p-value:\", result.pvalue)\n",
    "\n",
    "if result.pvalue < 0.05:\n",
    "    print(\"There is a significant difference in the average revenue between films with 'robot' and 'teacher' characters.\")\n",
    "else:\n",
    "    print(\"There is no significant difference in the average revenue between films with 'robot' and 'teacher' characters.\")"
   ]
  },
  {
   "cell_type": "markdown",
   "id": "37a66b82",
   "metadata": {},
   "source": [
    "# Section 5: Sample Size"
   ]
  },
  {
   "cell_type": "markdown",
   "id": "8a15bb6b",
   "metadata": {},
   "source": [
    "**1. Generate the following. A reference for how to produce random normal observations can be found here. Use seed(200) to make sure the results are always the same.**"
   ]
  },
  {
   "cell_type": "code",
   "execution_count": 12,
   "id": "b14bf29a",
   "metadata": {},
   "outputs": [],
   "source": [
    "np.random.seed(200)"
   ]
  },
  {
   "cell_type": "markdown",
   "id": "b1359617",
   "metadata": {},
   "source": [
    "**a. x1: 5 observations from a random normal distribution with a mean of 15 and standard deviation of 2.**"
   ]
  },
  {
   "cell_type": "code",
   "execution_count": 13,
   "id": "1cdb21d7",
   "metadata": {},
   "outputs": [],
   "source": [
    "x1 = np.random.normal(loc = 15, scale = 2, size = 5)"
   ]
  },
  {
   "cell_type": "markdown",
   "id": "08960e4e",
   "metadata": {},
   "source": [
    "**b. x2: 25 observations from a random normal distribution with a mean of 15 and standard deviation of 2.**"
   ]
  },
  {
   "cell_type": "code",
   "execution_count": 14,
   "id": "9a8276dc",
   "metadata": {},
   "outputs": [],
   "source": [
    "x2 = np.random.normal(loc = 15, scale = 2, size = 25)"
   ]
  },
  {
   "cell_type": "markdown",
   "id": "7b22322c",
   "metadata": {},
   "source": [
    "**c. x3: 125 observations from a random normal distribution with a mean of 15 and standard deviation of 2.**"
   ]
  },
  {
   "cell_type": "code",
   "execution_count": 15,
   "id": "09c7edc3",
   "metadata": {},
   "outputs": [],
   "source": [
    "x3 = np.random.normal(loc = 15, scale = 2, size = 125)"
   ]
  },
  {
   "cell_type": "markdown",
   "id": "4d4c503f",
   "metadata": {},
   "source": [
    "**d. x4: 625 observations from a random normal distribution with a mean of 15 and standard deviation of 2.**"
   ]
  },
  {
   "cell_type": "code",
   "execution_count": 16,
   "id": "27c82ad5",
   "metadata": {},
   "outputs": [],
   "source": [
    "x4 = np.random.normal(loc = 15, scale = 2, size = 625)"
   ]
  },
  {
   "cell_type": "markdown",
   "id": "1099384f",
   "metadata": {},
   "source": [
    "**2. Use subplots to display the histograms of all four sets of numbers. An example of how to do this is here. Set kde=True to see how well the histogram approximates a normal p.d.f.**"
   ]
  },
  {
   "cell_type": "code",
   "execution_count": 17,
   "id": "a7fc5e31",
   "metadata": {},
   "outputs": [
    {
     "data": {
      "image/png": "[encoded data removed]",
      "text/plain": [
       "<Figure size 720x576 with 4 Axes>"
      ]
     },
     "metadata": {
      "needs_background": "light"
     },
     "output_type": "display_data"
    }
   ],
   "source": [
    "fig, axes = plt.subplots(2, 2, figsize = (10, 8))\n",
    "\n",
    "axes[0, 0].hist(x1, bins=10, density = True, edgecolor = 'black', alpha = 0.7)\n",
    "axes[0, 0].set_title('x1 - 5 observations')\n",
    "axes[0, 1].hist(x2, bins=10, density = True, edgecolor = 'black', alpha = 0.7)\n",
    "axes[0, 1].set_title('x2 - 25 observations')\n",
    "axes[1, 0].hist(x3, bins=10, density = True, edgecolor = 'black', alpha = 0.7)\n",
    "axes[1, 0].set_title('x3 - 125 observations')\n",
    "axes[1, 1].hist(x4, bins=10, density = True, edgecolor = 'black', alpha = 0.7)\n",
    "axes[1, 1].set_title('x4 - 625 observations')\n",
    "\n",
    "fig.text(0.5, 0.04, 'Observations', ha = 'center')\n",
    "fig.text(0.04, 0.5, 'Frequency', va = 'center', rotation = 'vertical')\n",
    "fig.suptitle('Histograms of Random Normal Observations')\n",
    "\n",
    "plt.tight_layout()\n",
    "\n",
    "plt.show()"
   ]
  },
  {
   "cell_type": "markdown",
   "id": "da329b1e",
   "metadata": {},
   "source": [
    "**3. Compute the sample means, standard deviations, and standard errors of x1, x2, x3, & x4.**"
   ]
  },
  {
   "cell_type": "code",
   "execution_count": 18,
   "id": "4721fb6e",
   "metadata": {},
   "outputs": [
    {
     "name": "stdout",
     "output_type": "stream",
     "text": [
      "Sample Means: [15.514244794423075, 15.38155905795485, 15.127359290503641, 14.887092033617716]\n",
      "Sample Standard Deviations: [2.213637204881067, 1.95710553305101, 1.9202675367485016, 1.951516967777483]\n",
      "Sample Standard Errors: [0.989968653527339, 0.391421106610202, 0.171753949886229, 0.07806067871109933]\n"
     ]
    }
   ],
   "source": [
    "sample_means = [np.mean(x1), np.mean(x2), np.mean(x3), np.mean(x4)]\n",
    "sample_std_devs = [np.std(x1), np.std(x2), np.std(x3), np.std(x4)]\n",
    "sample_standard_errors = [np.std(x1) / np.sqrt(len(x1)),\n",
    "                          np.std(x2) / np.sqrt(len(x2)),\n",
    "                          np.std(x3) / np.sqrt(len(x3)),\n",
    "                          np.std(x4) / np.sqrt(len(x4))]\n",
    "\n",
    "print(\"Sample Means:\", sample_means)\n",
    "print(\"Sample Standard Deviations:\", sample_std_devs)\n",
    "print(\"Sample Standard Errors:\", sample_standard_errors)"
   ]
  },
  {
   "cell_type": "markdown",
   "id": "fdc6feac",
   "metadata": {},
   "source": [
    "**4. Compare these to each other and the parameters of the distribution they come from. How do\n",
    "they differ?**"
   ]
  },
  {
   "cell_type": "markdown",
   "id": "5a410825",
   "metadata": {},
   "source": [
    "The sample means should be close to the true mean of 15, and the sample standard deviations should be close to the true standard deviation of 2, as we generated observations from a normal distribution with these parameters. The sample standard errors give an estimate of the uncertainty in the sample mean."
   ]
  },
  {
   "cell_type": "markdown",
   "id": "613513ce",
   "metadata": {},
   "source": [
    "# Section 6: Poisson Distribution"
   ]
  },
  {
   "cell_type": "markdown",
   "id": "ab17ee33",
   "metadata": {},
   "source": [
    "**1. Using numpy & seed(100), generate a Poisson distribution setting lam=12 and size=1200.**"
   ]
  },
  {
   "cell_type": "code",
   "execution_count": 19,
   "id": "e2dff7c3",
   "metadata": {},
   "outputs": [],
   "source": [
    "np.random.seed(100)\n",
    "poisson_values = np.random.poisson(lam = 12, size = 1200)"
   ]
  },
  {
   "cell_type": "markdown",
   "id": "e487df7d",
   "metadata": {},
   "source": [
    "**2. Compute mean and variance of your 1200 random Poisson values.**"
   ]
  },
  {
   "cell_type": "code",
   "execution_count": 20,
   "id": "e2c5d989",
   "metadata": {},
   "outputs": [
    {
     "name": "stdout",
     "output_type": "stream",
     "text": [
      "11.798333333333334\n",
      "11.847663888888889\n"
     ]
    }
   ],
   "source": [
    "mean = np.mean(poisson_values)\n",
    "variance = np.var(poisson_values)\n",
    "\n",
    "print(mean)\n",
    "print(variance)"
   ]
  },
  {
   "cell_type": "markdown",
   "id": "6934f24e",
   "metadata": {},
   "source": [
    "**3. Does the lambda = mean = variance?**"
   ]
  },
  {
   "cell_type": "code",
   "execution_count": 21,
   "id": "df1ff217",
   "metadata": {},
   "outputs": [
    {
     "name": "stdout",
     "output_type": "stream",
     "text": [
      "Lambda = Mean: False\n",
      "Lambda = Variance: False\n"
     ]
    }
   ],
   "source": [
    "lambda_value = 12\n",
    "\n",
    "lambda_equal_mean = lambda_value == mean\n",
    "lambda_equal_variance = lambda_value == variance\n",
    "\n",
    "print(\"Lambda = Mean:\", lambda_equal_mean)\n",
    "print(\"Lambda = Variance:\", lambda_equal_variance)"
   ]
  },
  {
   "cell_type": "markdown",
   "id": "3e776c82",
   "metadata": {},
   "source": [
    "**4. Repeat 1-3 using size = 4. Does lambda=mean=variance?**"
   ]
  },
  {
   "cell_type": "code",
   "execution_count": 22,
   "id": "06480c7d",
   "metadata": {},
   "outputs": [
    {
     "name": "stdout",
     "output_type": "stream",
     "text": [
      "12.75\n",
      "5.6875\n",
      "Lambda = Mean: False\n",
      "Lambda = Variance: False\n"
     ]
    }
   ],
   "source": [
    "poisson_values = np.random.poisson(lam = 12, size = 4)\n",
    "\n",
    "mean = np.mean(poisson_values)\n",
    "variance = np.var(poisson_values)\n",
    "print(mean)\n",
    "print(variance)\n",
    "\n",
    "lambda_value = 12\n",
    "\n",
    "lambda_equal_mean = lambda_value == mean\n",
    "lambda_equal_variance = lambda_value == variance\n",
    "\n",
    "print(\"Lambda = Mean:\", lambda_equal_mean)\n",
    "print(\"Lambda = Variance:\", lambda_equal_variance)"
   ]
  },
  {
   "cell_type": "markdown",
   "id": "01cc7171",
   "metadata": {},
   "source": [
    "# Section 7: Analysis"
   ]
  },
  {
   "cell_type": "markdown",
   "id": "b82eb0bf",
   "metadata": {},
   "source": [
    "Its late 2005, and your boss at the DVD rental company wants to know how effective his customer promotion program was. He tells you, *‘I want you to give me some descriptive information about how much the customers spent before and after the program started. Were the spending habits similar? Did they differ? Did the program help or make things worse?’*\n",
    "\n",
    "**1. What is the outcome?**"
   ]
  },
  {
   "cell_type": "markdown",
   "id": "195c2a98",
   "metadata": {},
   "source": [
    "The outcome of the analysis is to provide descriptive information about the customers' spending habits before and after the customer promotion program. The goal is to determine if the program had any impact on the customers' spending behavior."
   ]
  },
  {
   "cell_type": "markdown",
   "id": "002f05ca",
   "metadata": {},
   "source": [
    "**2. What is the main effect/predictor he wants to understand the impact of?**"
   ]
  },
  {
   "cell_type": "markdown",
   "id": "786e5e4a",
   "metadata": {},
   "source": [
    "The main effect/predictor that the boss wants to understand the impact of is the customer promotion program. The analysis aims to determine if the program influenced the amount of money customers spent."
   ]
  },
  {
   "cell_type": "markdown",
   "id": "f7cb80bf",
   "metadata": {},
   "source": [
    "**3. What is the hypothesis?**\n",
    "\n",
    "Lucky for you, your boss already asked Ted in Bethesda to give you a query for how to get the information.\n",
    "\n",
    "Query:\n",
    "    \n",
    "    with b4 as (\n",
    "        select p.customer_id, sum(p.amount) as Payment_before\n",
    "        from rental r\n",
    "        left outer join payment p on p.rental_id = r.rental_id\n",
    "        where rental_date < cast('2005-07-01' as timestamp)\n",
    "        and amount is not null\n",
    "        group by p.customer_id),\n",
    "    aft as (\n",
    "        select p.customer_id, sum(p.amount) as Payment_after\n",
    "        from rental r\n",
    "        left outer join payment p on p.rental_id = r.rental_id\n",
    "        where rental_date >= cast('2005-07-01' as timestamp)\n",
    "        and amount is not null\n",
    "        group by p.customer_id\n",
    "    )\n",
    "    select distinct c.customer_id, store_id, first_name, last_name, active, payment_before, payment_after\n",
    "    from customer c\n",
    "    left outer join b4 r on r.customer_id = c.customer_id\n",
    "    left outer join aft a on a.customer_id = c.customer_id\n",
    "    where payment_after is not null and payment_before is not null\n",
    "\n",
    "Plus, the statistician you work with has some suggestions for how to give your boss what he wants. Query the data from your container and put it in a Pandas dataframe. Then follow the statistician’s suggestions."
   ]
  },
  {
   "cell_type": "code",
   "execution_count": 23,
   "id": "8f8230bf",
   "metadata": {},
   "outputs": [],
   "source": [
    "query = '''\n",
    "    with b4 as (\n",
    "        select p.customer_id, sum(p.amount) as Payment_before\n",
    "        from rental r\n",
    "        left outer join payment p on p.rental_id = r.rental_id\n",
    "        where rental_date < cast('2005-07-01' as timestamp)\n",
    "        and amount is not null\n",
    "        group by p.customer_id),\n",
    "    aft as (\n",
    "        select p.customer_id, sum(p.amount) as Payment_after\n",
    "        from rental r\n",
    "        left outer join payment p on p.rental_id = r.rental_id\n",
    "        where rental_date >= cast('2005-07-01' as timestamp)\n",
    "        and amount is not null\n",
    "        group by p.customer_id\n",
    "    )\n",
    "    select distinct c.customer_id, store_id, first_name, last_name, active, payment_before, payment_after\n",
    "    from customer c\n",
    "    left outer join b4 r on r.customer_id = c.customer_id\n",
    "    left outer join aft a on a.customer_id = c.customer_id\n",
    "    where payment_after is not null and payment_before is not null\n",
    "'''\n",
    "\n",
    "df = pd.read_sql_query(query, conn)"
   ]
  },
  {
   "cell_type": "markdown",
   "id": "b062b517",
   "metadata": {},
   "source": [
    "**4. Compute summary statistics and create histograms of the payment_before and payment_after variables. (Try using describe( ) in pandas).**"
   ]
  },
  {
   "cell_type": "code",
   "execution_count": 24,
   "id": "054eb23d",
   "metadata": {},
   "outputs": [
    {
     "data": {
      "image/png": "[encoded data removed]",
      "text/plain": [
       "<Figure size 432x288 with 2 Axes>"
      ]
     },
     "metadata": {
      "needs_background": "light"
     },
     "output_type": "display_data"
    }
   ],
   "source": [
    "# Assuming you have fetched the data into a pandas DataFrame called 'data'\n",
    "summary_stats = df[['payment_before', 'payment_after']].describe()\n",
    "histograms = df[['payment_before', 'payment_after']].hist(bins = 10)"
   ]
  },
  {
   "cell_type": "markdown",
   "id": "7fd69576",
   "metadata": {},
   "source": [
    "**5. Compute the correlation between these two variables and create a scatterplot.**\n"
   ]
  },
  {
   "cell_type": "code",
   "execution_count": 25,
   "id": "bcda9331",
   "metadata": {},
   "outputs": [
    {
     "data": {
      "image/png": "[encoded data removed]",
      "text/plain": [
       "<Figure size 432x288 with 1 Axes>"
      ]
     },
     "metadata": {
      "needs_background": "light"
     },
     "output_type": "display_data"
    }
   ],
   "source": [
    "correlation = df[['payment_before', 'payment_after']].corr()\n",
    "sns.scatterplot(x = 'payment_before', y = 'payment_after', data = df)\n",
    "plt.show()"
   ]
  },
  {
   "cell_type": "markdown",
   "id": "685de41c",
   "metadata": {},
   "source": [
    "**6. Compute a variable which is the difference between the amounts spent before and after the\n",
    "program started: payment_after – payment_before.**"
   ]
  },
  {
   "cell_type": "code",
   "execution_count": 26,
   "id": "527317da",
   "metadata": {},
   "outputs": [
    {
     "name": "stdout",
     "output_type": "stream",
     "text": [
      "0       95.77\n",
      "1       67.84\n",
      "2       94.79\n",
      "3       60.82\n",
      "4       44.87\n",
      "        ...  \n",
      "513     95.76\n",
      "514    110.79\n",
      "515     65.84\n",
      "516     41.89\n",
      "517     66.85\n",
      "Name: difference, Length: 518, dtype: float64\n"
     ]
    }
   ],
   "source": [
    "df['difference'] = df['payment_after'] - df['payment_before']\n",
    "\n",
    "print(df['difference'])"
   ]
  },
  {
   "cell_type": "markdown",
   "id": "83917ca2",
   "metadata": {},
   "source": [
    "**7. Generate a histogram of the difference and conduct a one-sample t-test.**"
   ]
  },
  {
   "cell_type": "code",
   "execution_count": 27,
   "id": "9032ebb8",
   "metadata": {},
   "outputs": [
    {
     "data": {
      "image/png": "[encoded data removed]",
      "text/plain": [
       "<Figure size 432x288 with 1 Axes>"
      ]
     },
     "metadata": {
      "needs_background": "light"
     },
     "output_type": "display_data"
    },
    {
     "name": "stdout",
     "output_type": "stream",
     "text": [
      "66.50556288293606 1.506644649500588e-255\n"
     ]
    }
   ],
   "source": [
    "df['difference'].hist(bins = 10, edgecolor = 'black')\n",
    "plt.show()\n",
    "\n",
    "t_statistic, p_value = stats.ttest_1samp(df['difference'], 0)\n",
    "\n",
    "print(t_statistic, p_value)"
   ]
  },
  {
   "cell_type": "markdown",
   "id": "f1f9e335",
   "metadata": {},
   "source": [
    "**8. Interpret your results.**"
   ]
  },
  {
   "cell_type": "markdown",
   "id": "02184d5b",
   "metadata": {},
   "source": [
    "The t_statistic represents the calculated t-value, and the p_value represents the probability of observing the given t-value under the null hypothesis (no difference in payment amounts). As the p-value is far more lower than the chosen significance level, it suggests that there is a significant difference in payment amounts before and after the program."
   ]
  },
  {
   "cell_type": "code",
   "execution_count": 28,
   "id": "af46028a",
   "metadata": {},
   "outputs": [],
   "source": [
    "conn.close()"
   ]
  }
 ],
 "metadata": {
  "kernelspec": {
   "display_name": "Python 3 (ipykernel)",
   "language": "python",
   "name": "python3"
  },
  "language_info": {
   "codemirror_mode": {
    "name": "ipython",
    "version": 3
   },
   "file_extension": ".py",
   "mimetype": "text/x-python",
   "name": "python",
   "nbconvert_exporter": "python",
   "pygments_lexer": "ipython3",
   "version": "3.9.7"
  }
 },
 "nbformat": 4,
 "nbformat_minor": 5
}
