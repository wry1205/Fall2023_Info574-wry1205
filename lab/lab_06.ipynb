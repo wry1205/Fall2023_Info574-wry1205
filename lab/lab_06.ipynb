{
 "cells": [
  {
   "cell_type": "markdown",
   "id": "7274d48f",
   "metadata": {},
   "source": [
    "# Examining customer spending"
   ]
  },
  {
   "cell_type": "markdown",
   "id": "4e814ad4",
   "metadata": {},
   "source": [
    "We’ll be using the lab06_customers.csv data set for this lab. The data set covers the demographic characteristics of some customers and the amount they spent over the past year at an online retailer."
   ]
  },
  {
   "cell_type": "code",
   "execution_count": 50,
   "id": "77616be8",
   "metadata": {},
   "outputs": [],
   "source": [
    "import pandas as pd\n",
    "import matplotlib.pyplot as plt\n",
    "import numpy as np\n",
    "from scipy import stats\n",
    "import statsmodels.api as sm\n",
    "from statsmodels.formula.api import ols\n",
    "from statsmodels.graphics.factorplots import interaction_plot"
   ]
  },
  {
   "cell_type": "markdown",
   "id": "52a38aad",
   "metadata": {},
   "source": [
    "**1. Import the CSV file and print out a few rows to examine the data.**"
   ]
  },
  {
   "cell_type": "code",
   "execution_count": 5,
   "id": "35e8426f",
   "metadata": {},
   "outputs": [
    {
     "name": "stdout",
     "output_type": "stream",
     "text": [
      "       race    income     sex  schoolYears   age   spend\n",
      "0     white  157966.0    male         18.0  31.0  659.97\n",
      "1     white   11134.0  female         14.0  50.0  719.69\n",
      "2  hispanic  555369.0    male         14.0  32.0  854.61\n",
      "3     white  272387.0  female         18.0  52.0  855.20\n",
      "4     white  105459.0  female         17.0  49.0  758.33\n"
     ]
    }
   ],
   "source": [
    "data = pd.read_csv('lab06_customers.csv')\n",
    "print(data.head())"
   ]
  },
  {
   "cell_type": "markdown",
   "id": "be65966e",
   "metadata": {},
   "source": [
    "**2. Compute descriptive statistics. This includes computing percentages of each category of the categorical variables. The function *value_counts(normalize=True)* will provide percentages. If you don’t set normalize=True, that function will provide counts by category.**"
   ]
  },
  {
   "cell_type": "code",
   "execution_count": 17,
   "id": "4f12a07b",
   "metadata": {},
   "outputs": [
    {
     "name": "stdout",
     "output_type": "stream",
     "text": [
      "RACE\n",
      " white       0.5771\n",
      "hispanic    0.1405\n",
      "black       0.1163\n",
      "other       0.1094\n",
      "asian       0.0567\n",
      "Name: race, dtype: float64\n",
      "INCOME\n",
      " 16065.0    0.0003\n",
      "10502.0    0.0003\n",
      "21047.0    0.0003\n",
      "71022.0    0.0003\n",
      "22818.0    0.0003\n",
      "            ...  \n",
      "95393.0    0.0001\n",
      "4716.0     0.0001\n",
      "25421.0    0.0001\n",
      "42765.0    0.0001\n",
      "4359.0     0.0001\n",
      "Name: income, Length: 9650, dtype: float64\n",
      "SEX\n",
      " male      0.5006\n",
      "female    0.4982\n",
      "other     0.0012\n",
      "Name: sex, dtype: float64\n",
      "SCHOOLYEARS\n",
      " 15.0    0.1576\n",
      "14.0    0.1574\n",
      "16.0    0.1511\n",
      "17.0    0.1268\n",
      "13.0    0.1171\n",
      "18.0    0.0952\n",
      "12.0    0.0776\n",
      "19.0    0.0555\n",
      "11.0    0.0359\n",
      "20.0    0.0144\n",
      "10.0    0.0080\n",
      "21.0    0.0024\n",
      "9.0     0.0009\n",
      "22.0    0.0001\n",
      "Name: schoolYears, dtype: float64\n",
      "AGE\n",
      " 35.0    0.0519\n",
      "51.0    0.0488\n",
      "33.0    0.0480\n",
      "49.0    0.0480\n",
      "34.0    0.0476\n",
      "50.0    0.0472\n",
      "48.0    0.0457\n",
      "32.0    0.0451\n",
      "52.0    0.0449\n",
      "36.0    0.0430\n",
      "53.0    0.0406\n",
      "31.0    0.0390\n",
      "37.0    0.0389\n",
      "47.0    0.0377\n",
      "38.0    0.0320\n",
      "46.0    0.0317\n",
      "30.0    0.0315\n",
      "54.0    0.0278\n",
      "39.0    0.0223\n",
      "45.0    0.0218\n",
      "29.0    0.0214\n",
      "55.0    0.0207\n",
      "44.0    0.0187\n",
      "56.0    0.0182\n",
      "28.0    0.0168\n",
      "40.0    0.0159\n",
      "42.0    0.0151\n",
      "41.0    0.0142\n",
      "43.0    0.0137\n",
      "57.0    0.0119\n",
      "27.0    0.0109\n",
      "58.0    0.0064\n",
      "26.0    0.0062\n",
      "59.0    0.0040\n",
      "25.0    0.0036\n",
      "24.0    0.0028\n",
      "60.0    0.0018\n",
      "61.0    0.0011\n",
      "23.0    0.0009\n",
      "21.0    0.0005\n",
      "62.0    0.0004\n",
      "22.0    0.0004\n",
      "64.0    0.0003\n",
      "63.0    0.0002\n",
      "19.0    0.0001\n",
      "66.0    0.0001\n",
      "67.0    0.0001\n",
      "18.0    0.0001\n",
      "Name: age, dtype: float64\n",
      "SPEND\n",
      " 802.78    0.0004\n",
      "794.37    0.0004\n",
      "760.87    0.0004\n",
      "785.99    0.0004\n",
      "773.91    0.0004\n",
      "           ...  \n",
      "832.58    0.0001\n",
      "905.50    0.0001\n",
      "870.53    0.0001\n",
      "829.68    0.0001\n",
      "626.38    0.0001\n",
      "Name: spend, Length: 8738, dtype: float64\n"
     ]
    }
   ],
   "source": [
    "race_percentages = data['race'].value_counts(normalize = True)\n",
    "print('RACE\\n', race_percentages)\n",
    "income_percentages = data['income'].value_counts(normalize = True)\n",
    "print('INCOME\\n', income_percentages)\n",
    "sex_percentages = data['sex'].value_counts(normalize = True)\n",
    "print('SEX\\n', sex_percentages)\n",
    "schoolYears_percentages = data['schoolYears'].value_counts(normalize = True)\n",
    "print('SCHOOLYEARS\\n', schoolYears_percentages)\n",
    "age_percentages = data['age'].value_counts(normalize = True)\n",
    "print('AGE\\n', age_percentages)\n",
    "spend_percentages = data['spend'].value_counts(normalize = True)\n",
    "print('SPEND\\n', spend_percentages)"
   ]
  },
  {
   "cell_type": "markdown",
   "id": "ad971731",
   "metadata": {},
   "source": [
    "**3. Look at the distributions of the continuous variables. If income is not normal, choose an appropriate transformation.**"
   ]
  },
  {
   "cell_type": "code",
   "execution_count": 25,
   "id": "bcf1977f",
   "metadata": {},
   "outputs": [
    {
     "data": {
      "text/plain": [
       "Text(0, 0.5, 'Frequency')"
      ]
     },
     "execution_count": 25,
     "metadata": {},
     "output_type": "execute_result"
    },
    {
     "data": {
      "image/png": "[encoded data removed]",
      "text/plain": [
       "<Figure size 576x432 with 1 Axes>"
      ]
     },
     "metadata": {
      "needs_background": "light"
     },
     "output_type": "display_data"
    }
   ],
   "source": [
    "plt.figure(figsize = (8, 6))\n",
    "plt.hist(data['income'], bins = 30, density = True, alpha = 0.7)\n",
    "plt.title('Distribution of income')\n",
    "plt.xlabel('income')\n",
    "plt.ylabel('Frequency')"
   ]
  },
  {
   "cell_type": "code",
   "execution_count": 26,
   "id": "55fb7204",
   "metadata": {},
   "outputs": [
    {
     "data": {
      "text/plain": [
       "Text(0.5, 1.0, 'Q-Q Plot of income')"
      ]
     },
     "execution_count": 26,
     "metadata": {},
     "output_type": "execute_result"
    },
    {
     "data": {
      "image/png": "[encoded data removed]",
      "text/plain": [
       "<Figure size 576x432 with 1 Axes>"
      ]
     },
     "metadata": {
      "needs_background": "light"
     },
     "output_type": "display_data"
    }
   ],
   "source": [
    "plt.figure(figsize = (8, 6))\n",
    "stats.probplot(data['income'], dist = \"norm\", plot = plt)\n",
    "plt.title('Q-Q Plot of income')"
   ]
  },
  {
   "cell_type": "code",
   "execution_count": 29,
   "id": "92fc4d57",
   "metadata": {},
   "outputs": [
    {
     "name": "stdout",
     "output_type": "stream",
     "text": [
      "Shapiro-Wilk Test - p-value after transformation: 0.965468168258667\n"
     ]
    }
   ],
   "source": [
    "data['Log_Income'] = np.log(data['income'])\n",
    "shapiro_test_stat, shapiro_p_value = stats.shapiro(data['Log_Income'])\n",
    "print(f'Shapiro-Wilk Test - p-value after transformation: {shapiro_p_value}')"
   ]
  },
  {
   "cell_type": "markdown",
   "id": "65cda9db",
   "metadata": {},
   "source": [
    "**4. Compute average spending by race using groupby().**"
   ]
  },
  {
   "cell_type": "code",
   "execution_count": 33,
   "id": "8f8c6956",
   "metadata": {},
   "outputs": [
    {
     "name": "stdout",
     "output_type": "stream",
     "text": [
      "race\n",
      "asian       809.523739\n",
      "black       643.611900\n",
      "hispanic    824.047573\n",
      "other       749.296161\n",
      "white       757.013450\n",
      "Name: spend, dtype: float64\n"
     ]
    }
   ],
   "source": [
    "average_spending_race = data.groupby('race')['spend'].mean()\n",
    "print(average_spending_race)"
   ]
  },
  {
   "cell_type": "markdown",
   "id": "93d8660a",
   "metadata": {},
   "source": [
    "**5. Compute average spending by sex.**"
   ]
  },
  {
   "cell_type": "code",
   "execution_count": 34,
   "id": "0045cb4b",
   "metadata": {},
   "outputs": [
    {
     "name": "stdout",
     "output_type": "stream",
     "text": [
      "race\n",
      "asian       809.523739\n",
      "black       643.611900\n",
      "hispanic    824.047573\n",
      "other       749.296161\n",
      "white       757.013450\n",
      "Name: spend, dtype: float64\n"
     ]
    }
   ],
   "source": [
    "average_spending_sex = data.groupby('race')['spend'].mean()\n",
    "print(average_spending_sex)"
   ]
  },
  {
   "cell_type": "markdown",
   "id": "e47d2425",
   "metadata": {},
   "source": [
    "**6. We have reason to believe that groups of Hispanic Men and Black Women spend differently from each other. Fit a model to test these hypotheses. This is easiest to do using R-style coding for the interactions. See this link and scroll to about midway on the page to see an example.**"
   ]
  },
  {
   "cell_type": "markdown",
   "id": "6ff1810e",
   "metadata": {},
   "source": [
    "**a. Look at the overall p-value for the interaction using anova_lm() and Type III sums of squares. Is it significant?**"
   ]
  },
  {
   "cell_type": "code",
   "execution_count": 41,
   "id": "dd0c7de8",
   "metadata": {},
   "outputs": [
    {
     "name": "stdout",
     "output_type": "stream",
     "text": [
      "                 sum_sq      df             F        PR(>F)\n",
      "Intercept  2.089632e+08     1.0  22809.838124  0.000000e+00\n",
      "race       2.915947e+07     4.0    795.741432  0.000000e+00\n",
      "sex        3.677527e+06     2.0    200.714237  3.446613e-86\n",
      "race:sex   2.011607e+07     8.0    274.476667  0.000000e+00\n",
      "Residual   9.148275e+07  9986.0           NaN           NaN\n"
     ]
    }
   ],
   "source": [
    "model = ols('spend ~ race * sex', data = data).fit()\n",
    "anova_table = sm.stats.anova_lm(model, typ = 3)\n",
    "\n",
    "print(anova_table)"
   ]
  },
  {
   "cell_type": "markdown",
   "id": "59d4bcc1",
   "metadata": {},
   "source": [
    "**b. Report p-values for this comparison and adjusted R2 from the model.**"
   ]
  },
  {
   "cell_type": "code",
   "execution_count": 46,
   "id": "d35c9e68",
   "metadata": {},
   "outputs": [
    {
     "name": "stdout",
     "output_type": "stream",
     "text": [
      "                            OLS Regression Results                            \n",
      "==============================================================================\n",
      "Dep. Variable:                  spend   R-squared:                       0.320\n",
      "Model:                            OLS   Adj. R-squared:                  0.319\n",
      "Method:                 Least Squares   F-statistic:                     361.5\n",
      "Date:                Thu, 05 Oct 2023   Prob (F-statistic):               0.00\n",
      "Time:                        19:00:21   Log-Likelihood:                -59796.\n",
      "No. Observations:               10000   AIC:                         1.196e+05\n",
      "Df Residuals:                    9986   BIC:                         1.197e+05\n",
      "Df Model:                          13                                         \n",
      "Covariance Type:            nonrobust                                         \n",
      "=================================================================================================\n",
      "                                    coef    std err          t      P>|t|      [0.025      0.975]\n",
      "-------------------------------------------------------------------------------------------------\n",
      "Intercept                       893.0675      5.913    151.029      0.000     881.476     904.659\n",
      "race[T.black]                  -334.0021      7.093    -47.089      0.000    -347.906    -320.098\n",
      "race[T.hispanic]               -128.1884      6.919    -18.528      0.000    -141.751    -114.626\n",
      "race[T.other]                  -123.7960      7.226    -17.131      0.000    -137.961    -109.631\n",
      "race[T.white]                  -118.6257      6.176    -19.207      0.000    -130.732    -106.519\n",
      "sex[T.male]                    -155.3092      8.062    -19.263      0.000    -171.113    -139.505\n",
      "sex[T.other]                   -171.0383     31.046     -5.509      0.000    -231.895    -110.182\n",
      "race[T.black]:sex[T.male]       329.4738      9.827     33.529      0.000     310.212     348.736\n",
      "race[T.hispanic]:sex[T.male]    276.1875      9.546     28.932      0.000     257.476     294.899\n",
      "race[T.other]:sex[T.male]       116.8134      9.928     11.767      0.000      97.353     136.273\n",
      "race[T.white]:sex[T.male]       121.0728      8.448     14.332      0.000     104.514     137.632\n",
      "race[T.black]:sex[T.other]       95.6229     80.435      1.189      0.235     -62.045     253.291\n",
      "race[T.hispanic]:sex[T.other]  -147.3958     60.991     -2.417      0.016    -266.951     -27.841\n",
      "race[T.other]:sex[T.other]      -47.3132     80.442     -0.588      0.556    -204.995     110.369\n",
      "race[T.white]:sex[T.other]      -71.9522     40.655     -1.770      0.077    -151.645       7.740\n",
      "==============================================================================\n",
      "Omnibus:                      730.923   Durbin-Watson:                   1.988\n",
      "Prob(Omnibus):                  0.000   Jarque-Bera (JB):             1869.011\n",
      "Skew:                           0.429   Prob(JB):                         0.00\n",
      "Kurtosis:                       4.937   Cond. No.                     1.03e+17\n",
      "==============================================================================\n",
      "\n",
      "Notes:\n",
      "[1] Standard Errors assume that the covariance matrix of the errors is correctly specified.\n",
      "[2] The smallest eigenvalue is 1.75e-30. This might indicate that there are\n",
      "strong multicollinearity problems or that the design matrix is singular.\n",
      "P-value for interaction: 0.0\n",
      "Adjusted R-squared: 0.31911979041011784\n"
     ]
    }
   ],
   "source": [
    "summary = model.summary()\n",
    "test_result = sm.stats.anova_lm(model, typ = 3)\n",
    "p_value_interaction = test_result.loc['race:sex', 'PR(>F)']\n",
    "adjusted_r_squared = model.rsquared_adj\n",
    "\n",
    "print(summary)\n",
    "print(f\"P-value for interaction: {p_value_interaction}\")\n",
    "print(f\"Adjusted R-squared: {adjusted_r_squared}\")"
   ]
  },
  {
   "cell_type": "markdown",
   "id": "ea21053d",
   "metadata": {},
   "source": [
    "**c. Create a pivot table of mean spend by race and sex. This link shows how (scroll to the part on adding columns).**"
   ]
  },
  {
   "cell_type": "code",
   "execution_count": 48,
   "id": "b27a9312",
   "metadata": {},
   "outputs": [
    {
     "name": "stdout",
     "output_type": "stream",
     "text": [
      "sex           female        male      other\n",
      "race                                       \n",
      "asian     893.067481  737.758295        NaN\n",
      "black     559.065377  733.230018  483.65000\n",
      "hispanic  764.879042  885.757330  446.44500\n",
      "other     769.271450  730.775694  550.92000\n",
      "white     774.441770  740.205425  531.45125\n"
     ]
    }
   ],
   "source": [
    "pivot_table = data.pivot_table(index = 'race', columns = 'sex', values = 'spend', aggfunc = 'mean')\n",
    "\n",
    "print(pivot_table)"
   ]
  },
  {
   "cell_type": "markdown",
   "id": "bddec090",
   "metadata": {},
   "source": [
    "**d. Did the findings support your hypothesis? Explain.**\n",
    "\n",
    "*Hint: Make sure the reference categories for sex and race is one of the comparison groups.*"
   ]
  },
  {
   "cell_type": "markdown",
   "id": "df57240c",
   "metadata": {},
   "source": [
    "The table just confirms the significant relation between these two groups."
   ]
  },
  {
   "cell_type": "markdown",
   "id": "73601c9c",
   "metadata": {},
   "source": [
    "**7. We also believe that education might interact with race and gender. Fit another model testing a 3-way interaction with schoolYears. Is it significant? What is the adjusted R2 value?**"
   ]
  },
  {
   "cell_type": "code",
   "execution_count": 57,
   "id": "b9fd3297",
   "metadata": {},
   "outputs": [
    {
     "name": "stdout",
     "output_type": "stream",
     "text": [
      "                            OLS Regression Results                            \n",
      "==============================================================================\n",
      "Dep. Variable:                  spend   R-squared:                       0.340\n",
      "Model:                            OLS   Adj. R-squared:                  0.338\n",
      "Method:                 Least Squares   F-statistic:                     213.8\n",
      "Date:                Thu, 05 Oct 2023   Prob (F-statistic):               0.00\n",
      "Time:                        23:46:08   Log-Likelihood:                -59649.\n",
      "No. Observations:               10000   AIC:                         1.193e+05\n",
      "Df Residuals:                    9975   BIC:                         1.195e+05\n",
      "Df Model:                          24                                         \n",
      "Covariance Type:            nonrobust                                         \n",
      "=============================================================================================================\n",
      "                                                coef    std err          t      P>|t|      [0.025      0.975]\n",
      "-------------------------------------------------------------------------------------------------------------\n",
      "Intercept                                   641.8530     51.460     12.473      0.000     540.982     742.724\n",
      "race[T.black]                              -181.9451     58.144     -3.129      0.002    -295.918     -67.972\n",
      "race[T.hispanic]                             27.7656     57.214      0.485      0.627     -84.384     139.916\n",
      "race[T.other]                                12.3209     59.739      0.206      0.837    -104.779     129.421\n",
      "race[T.white]                                 6.1519     53.424      0.115      0.908     -98.569     110.873\n",
      "sex[T.male]                                  38.5324     69.503      0.554      0.579     -97.708     174.773\n",
      "sex[T.other]                                -88.8948    145.941     -0.609      0.542    -374.969     197.180\n",
      "race[T.black]:sex[T.male]                    58.3061     79.742      0.731      0.465     -98.005     214.617\n",
      "race[T.hispanic]:sex[T.male]                125.2955     78.006      1.606      0.108     -27.612     278.203\n",
      "race[T.other]:sex[T.male]                   -89.4741     80.981     -1.105      0.269    -248.213      69.265\n",
      "race[T.white]:sex[T.male]                   -76.2486     72.378     -1.053      0.292    -218.124      65.627\n",
      "race[T.black]:sex[T.other]                    0.6702      0.556      1.206      0.228      -0.419       1.760\n",
      "race[T.hispanic]:sex[T.other]                -1.0114      0.426     -2.372      0.018      -1.847      -0.176\n",
      "race[T.other]:sex[T.other]                   -0.2706      0.471     -0.575      0.565      -1.193       0.652\n",
      "race[T.white]:sex[T.other]                  -88.2830    146.200     -0.604      0.546    -374.865     198.299\n",
      "schoolYears                                  14.9859      3.050      4.913      0.000       9.007      20.965\n",
      "race[T.black]:schoolYears                    -7.8512      3.608     -2.176      0.030     -14.924      -0.779\n",
      "race[T.hispanic]:schoolYears                 -8.1083      3.535     -2.294      0.022     -15.038      -1.179\n",
      "race[T.other]:schoolYears                    -6.7056      3.739     -1.793      0.073     -14.035       0.624\n",
      "race[T.white]:schoolYears                    -7.0242      3.179     -2.209      0.027     -13.256      -0.792\n",
      "sex[T.male]:schoolYears                     -11.6013      4.098     -2.831      0.005     -19.635      -3.568\n",
      "sex[T.other]:schoolYears                     -5.8466     11.068     -0.528      0.597     -27.542      15.849\n",
      "race[T.black]:sex[T.male]:schoolYears        17.2339      4.959      3.475      0.001       7.513      26.955\n",
      "race[T.hispanic]:sex[T.male]:schoolYears      8.5077      4.818      1.766      0.077      -0.937      17.952\n",
      "race[T.other]:sex[T.male]:schoolYears        12.5402      5.060      2.478      0.013       2.621      22.459\n",
      "race[T.white]:sex[T.male]:schoolYears        11.8335      4.289      2.759      0.006       3.427      20.240\n",
      "race[T.black]:sex[T.other]:schoolYears        8.0425      6.670      1.206      0.228      -5.032      21.117\n",
      "race[T.hispanic]:sex[T.other]:schoolYears   -12.1366      5.116     -2.372      0.018     -22.165      -2.109\n",
      "race[T.other]:sex[T.other]:schoolYears       -3.5174      6.119     -0.575      0.565     -15.512       8.478\n",
      "race[T.white]:sex[T.other]:schoolYears        1.7649      8.200      0.215      0.830     -14.310      17.839\n",
      "==============================================================================\n",
      "Omnibus:                      788.542   Durbin-Watson:                   1.988\n",
      "Prob(Omnibus):                  0.000   Jarque-Bera (JB):             2138.390\n",
      "Skew:                           0.444   Prob(JB):                         0.00\n",
      "Kurtosis:                       5.084   Cond. No.                     1.07e+16\n",
      "==============================================================================\n",
      "\n",
      "Notes:\n",
      "[1] Standard Errors assume that the covariance matrix of the errors is correctly specified.\n",
      "[2] The smallest eigenvalue is 4.04e-26. This might indicate that there are\n",
      "strong multicollinearity problems or that the design matrix is singular.\n",
      "P-value for 3-way interaction: 0.0041218351239230445\n",
      "Adjusted R-squared: 0.33811194482067053\n"
     ]
    }
   ],
   "source": [
    "model = ols('spend ~ race * sex * schoolYears', data = data).fit()\n",
    "\n",
    "summary = model.summary()\n",
    "\n",
    "test_result = sm.stats.anova_lm(model, typ=3)\n",
    "\n",
    "p_value_interaction_3way = test_result.loc['race:sex:schoolYears', 'PR(>F)']\n",
    "\n",
    "adjusted_r_squared = model.rsquared_adj\n",
    "\n",
    "print(summary)\n",
    "print(f\"P-value for 3-way interaction: {p_value_interaction_3way}\")\n",
    "print(f\"Adjusted R-squared: {adjusted_r_squared}\")"
   ]
  },
  {
   "cell_type": "markdown",
   "id": "5e001d51",
   "metadata": {},
   "source": [
    "**8. Three-way interactions can be hard to explain. We will often visualize the components of them. Do an interaction plot with spend as the response, schoolYears on the x-axis, and sex as the trace using *statsmodels interaction_plot*.**"
   ]
  },
  {
   "cell_type": "code",
   "execution_count": 59,
   "id": "8821d034",
   "metadata": {},
   "outputs": [
    {
     "data": {
      "image/png": "[encoded data removed]",
      "text/plain": [
       "<Figure size 432x288 with 1 Axes>"
      ]
     },
     "metadata": {
      "needs_background": "light"
     },
     "output_type": "display_data"
    }
   ],
   "source": [
    "interaction_plot(x=data['schoolYears'], trace=data['sex'], response=model.fittedvalues)\n",
    "\n",
    "plt.xlabel('schoolYears')\n",
    "plt.ylabel('Spend')\n",
    "plt.title('Interaction Plot: Spend vs. schoolYears by Sex')\n",
    "plt.show()"
   ]
  },
  {
   "cell_type": "markdown",
   "id": "3e0c45cd",
   "metadata": {},
   "source": [
    "**9. Of course, income and age probably play a factor in spending. Add those to the model and refit. Are they significant and how do you interpret their coefficients? What is the new R2?**"
   ]
  },
  {
   "cell_type": "code",
   "execution_count": 56,
   "id": "a0426570",
   "metadata": {},
   "outputs": [
    {
     "name": "stdout",
     "output_type": "stream",
     "text": [
      "                            OLS Regression Results                            \n",
      "==============================================================================\n",
      "Dep. Variable:                  spend   R-squared:                       0.867\n",
      "Model:                            OLS   Adj. R-squared:                  0.867\n",
      "Method:                 Least Squares   F-statistic:                     2510.\n",
      "Date:                Thu, 05 Oct 2023   Prob (F-statistic):               0.00\n",
      "Time:                        20:19:07   Log-Likelihood:                -51621.\n",
      "No. Observations:               10000   AIC:                         1.033e+05\n",
      "Df Residuals:                    9973   BIC:                         1.035e+05\n",
      "Df Model:                          26                                         \n",
      "Covariance Type:            nonrobust                                         \n",
      "=============================================================================================================\n",
      "                                                coef    std err          t      P>|t|      [0.025      0.975]\n",
      "-------------------------------------------------------------------------------------------------------------\n",
      "Intercept                                  -358.1325     23.664    -15.134      0.000    -404.519    -311.746\n",
      "race[T.black]                              -221.1480     26.057     -8.487      0.000    -272.224    -170.072\n",
      "race[T.hispanic]                            -18.2248     25.640     -0.711      0.477     -68.483      32.034\n",
      "race[T.other]                                -6.8999     26.771     -0.258      0.797     -59.376      45.576\n",
      "race[T.white]                               -19.3311     23.940     -0.807      0.419     -66.259      27.596\n",
      "sex[T.male]                                 312.7649     31.176     10.032      0.000     251.654     373.876\n",
      "sex[T.other]                                 57.8701     65.407      0.885      0.376     -70.340     186.080\n",
      "race[T.black]:sex[T.male]                   172.9102     35.738      4.838      0.000     102.856     242.964\n",
      "race[T.hispanic]:sex[T.male]                159.8974     34.956      4.574      0.000      91.376     228.419\n",
      "race[T.other]:sex[T.male]                   -29.3863     36.291     -0.810      0.418    -100.524      41.751\n",
      "race[T.white]:sex[T.male]                   -10.5251     32.435     -0.324      0.746     -74.105      53.055\n",
      "race[T.black]:sex[T.other]                    1.6089      0.249      6.458      0.000       1.121       2.097\n",
      "race[T.hispanic]:sex[T.other]                 0.1912      0.191      1.000      0.317      -0.183       0.566\n",
      "race[T.other]:sex[T.other]                   -0.2012      0.211     -0.954      0.340      -0.615       0.212\n",
      "race[T.white]:sex[T.other]                   56.2712     65.522      0.859      0.390     -72.166     184.708\n",
      "schoolYears                                  11.4111      1.371      8.326      0.000       8.724      14.098\n",
      "race[T.black]:schoolYears                    -5.4558      1.617     -3.374      0.001      -8.625      -2.286\n",
      "race[T.hispanic]:schoolYears                 -4.8042      1.584     -3.032      0.002      -7.910      -1.699\n",
      "race[T.other]:schoolYears                    -5.8323      1.676     -3.481      0.001      -9.117      -2.548\n",
      "race[T.white]:schoolYears                    -5.3957      1.425     -3.787      0.000      -8.188      -2.603\n",
      "sex[T.male]:schoolYears                      -7.4343      1.837     -4.048      0.000     -11.035      -3.834\n",
      "sex[T.other]:schoolYears                     12.6707      4.961      2.554      0.011       2.946      22.395\n",
      "race[T.black]:sex[T.male]:schoolYears         9.2789      2.223      4.175      0.000       4.922      13.636\n",
      "race[T.hispanic]:sex[T.male]:schoolYears      5.7642      2.159      2.670      0.008       1.532       9.997\n",
      "race[T.other]:sex[T.male]:schoolYears         8.7196      2.268      3.845      0.000       4.274      13.165\n",
      "race[T.white]:sex[T.male]:schoolYears         7.4603      1.922      3.882      0.000       3.693      11.228\n",
      "race[T.black]:sex[T.other]:schoolYears       19.3066      2.989      6.458      0.000      13.447      25.167\n",
      "race[T.hispanic]:sex[T.other]:schoolYears     2.2946      2.294      1.000      0.317      -2.201       6.791\n",
      "race[T.other]:sex[T.other]:schoolYears       -2.6155      2.742     -0.954      0.340      -7.991       2.760\n",
      "race[T.white]:sex[T.other]:schoolYears       -6.3150      3.675     -1.718      0.086     -13.519       0.889\n",
      "income                                     5.569e-05   4.35e-06     12.815      0.000    4.72e-05    6.42e-05\n",
      "age                                          21.0068      0.106    198.782      0.000      20.800      21.214\n",
      "==============================================================================\n",
      "Omnibus:                      508.385   Durbin-Watson:                   2.024\n",
      "Prob(Omnibus):                  0.000   Jarque-Bera (JB):              675.230\n",
      "Skew:                           0.495   Prob(JB):                    2.38e-147\n",
      "Kurtosis:                       3.801   Cond. No.                     1.27e+16\n",
      "==============================================================================\n",
      "\n",
      "Notes:\n",
      "[1] Standard Errors assume that the covariance matrix of the errors is correctly specified.\n",
      "[2] The smallest eigenvalue is 1.2e-18. This might indicate that there are\n",
      "strong multicollinearity problems or that the design matrix is singular.\n",
      "P-value for income: 2.652543568057181e-37\n",
      "P-value for age: 0.0\n",
      "New R-squared: 0.8674357117409045\n"
     ]
    }
   ],
   "source": [
    "model_extended = ols('spend ~ race * sex * schoolYears + income + age', data = data).fit()\n",
    "\n",
    "summary_extended = model_extended.summary()\n",
    "\n",
    "p_value_income = model_extended.pvalues['income']\n",
    "p_value_age = model_extended.pvalues['age']\n",
    "\n",
    "r_squared_extended = model_extended.rsquared\n",
    "\n",
    "print(summary_extended)\n",
    "print(f\"P-value for income: {p_value_income}\")\n",
    "print(f\"P-value for age: {p_value_age}\")\n",
    "print(f\"New R-squared: {r_squared_extended}\")"
   ]
  },
  {
   "cell_type": "markdown",
   "id": "162faa84",
   "metadata": {},
   "source": [
    "**10. What did you learn about customer spending? Just provide a quick summary.**"
   ]
  },
  {
   "cell_type": "markdown",
   "id": "8ffe93d3",
   "metadata": {},
   "source": [
    "The extended linear regression model reveals that customer spending is significantly influenced by income and age. Higher income and older age are associated with increased spending. Interactions between demographic variables, such as Race, Sex, and schoolYears, also play a role in predicting spending. The adjusted R-squared value indicates the model's goodness of fit."
   ]
  }
 ],
 "metadata": {
  "kernelspec": {
   "display_name": "Python 3 (ipykernel)",
   "language": "python",
   "name": "python3"
  },
  "language_info": {
   "codemirror_mode": {
    "name": "ipython",
    "version": 3
   },
   "file_extension": ".py",
   "mimetype": "text/x-python",
   "name": "python",
   "nbconvert_exporter": "python",
   "pygments_lexer": "ipython3",
   "version": "3.9.7"
  }
 },
 "nbformat": 4,
 "nbformat_minor": 5
}
