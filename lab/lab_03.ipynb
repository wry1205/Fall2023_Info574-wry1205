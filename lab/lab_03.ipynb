{
 "cells": [
  {
   "cell_type": "markdown",
   "id": "a36c27b7",
   "metadata": {},
   "source": [
    "## Marcus Ruiyi Wang 520674"
   ]
  },
  {
   "cell_type": "markdown",
   "id": "8252b522",
   "metadata": {},
   "source": [
    "# Section 1: Linear Algebra"
   ]
  },
  {
   "cell_type": "code",
   "execution_count": null,
   "id": "d5312b2f",
   "metadata": {},
   "outputs": [],
   "source": [
    "import numpy as np\n",
    "import matplotlib.pyplot as plt\n",
    "import statistics\n",
    "from scipy import stats"
   ]
  },
  {
   "cell_type": "code",
   "execution_count": null,
   "id": "ef288350",
   "metadata": {},
   "outputs": [],
   "source": [
    "m1 = np.array([[1,3,5],[4,12,8]])\n",
    "m2 = np.array([[1,5,9],[3,4,15]])"
   ]
  },
  {
   "cell_type": "code",
   "execution_count": null,
   "id": "1757e1da",
   "metadata": {},
   "outputs": [
    {
     "name": "stdout",
     "output_type": "stream",
     "text": [
      "[[ 2  8 14]\n",
      " [ 7 16 23]]\n"
     ]
    }
   ],
   "source": [
    "add_result = m1 + m2\n",
    "print(add_result)"
   ]
  },
  {
   "cell_type": "code",
   "execution_count": null,
   "id": "07b52318",
   "metadata": {},
   "outputs": [
    {
     "name": "stdout",
     "output_type": "stream",
     "text": [
      "[[ 0 -2 -4]\n",
      " [ 1  8 -7]]\n"
     ]
    }
   ],
   "source": [
    "sub_result = m1 - m2\n",
    "print(sub_result)"
   ]
  },
  {
   "cell_type": "code",
   "execution_count": null,
   "id": "98d94d5a",
   "metadata": {},
   "outputs": [
    {
     "name": "stdout",
     "output_type": "stream",
     "text": [
      "[[ 61  90]\n",
      " [136 180]]\n",
      "[[ 61 136]\n",
      " [ 90 180]]\n"
     ]
    }
   ],
   "source": [
    "mult_result1 = np.matmul(m1,m2.T)\n",
    "mult_result2 = np.matmul(m2,m1.T)\n",
    "print(mult_result1)\n",
    "print(mult_result2)"
   ]
  },
  {
   "cell_type": "markdown",
   "id": "096d328e",
   "metadata": {},
   "source": [
    "These two results are not the same as the order of multiplication matters in matrix multiplication."
   ]
  },
  {
   "cell_type": "code",
   "execution_count": null,
   "id": "36f49e43",
   "metadata": {},
   "outputs": [
    {
     "name": "stdout",
     "output_type": "stream",
     "text": [
      "[[ 1  3  5]\n",
      " [ 4 12  8]\n",
      " [ 2  6  7]]\n"
     ]
    }
   ],
   "source": [
    "v1 = np.array([2,6,7])\n",
    "m3 = np.append(m1, [v1], axis=0)\n",
    "print(m3)"
   ]
  },
  {
   "cell_type": "code",
   "execution_count": null,
   "id": "729b9499",
   "metadata": {},
   "outputs": [
    {
     "ename": "LinAlgError",
     "evalue": "Singular matrix",
     "output_type": "error",
     "traceback": [
      "\u001b[0;31m---------------------------------------------------------------------------\u001b[0m",
      "\u001b[0;31mLinAlgError\u001b[0m                               Traceback (most recent call last)",
      "\u001b[0;32m/var/folders/rn/rzrf8y593mn_8ym_f6tm249m0000gn/T/ipykernel_37472/531112249.py\u001b[0m in \u001b[0;36m<module>\u001b[0;34m\u001b[0m\n\u001b[0;32m----> 1\u001b[0;31m \u001b[0mm3_inverse\u001b[0m \u001b[0;34m=\u001b[0m \u001b[0mnp\u001b[0m\u001b[0;34m.\u001b[0m\u001b[0mlinalg\u001b[0m\u001b[0;34m.\u001b[0m\u001b[0minv\u001b[0m\u001b[0;34m(\u001b[0m\u001b[0mm3\u001b[0m\u001b[0;34m)\u001b[0m\u001b[0;34m\u001b[0m\u001b[0;34m\u001b[0m\u001b[0m\n\u001b[0m",
      "\u001b[0;32m<__array_function__ internals>\u001b[0m in \u001b[0;36minv\u001b[0;34m(*args, **kwargs)\u001b[0m\n",
      "\u001b[0;32m~/opt/anaconda3/lib/python3.9/site-packages/numpy/linalg/linalg.py\u001b[0m in \u001b[0;36minv\u001b[0;34m(a)\u001b[0m\n\u001b[1;32m    543\u001b[0m     \u001b[0msignature\u001b[0m \u001b[0;34m=\u001b[0m \u001b[0;34m'D->D'\u001b[0m \u001b[0;32mif\u001b[0m \u001b[0misComplexType\u001b[0m\u001b[0;34m(\u001b[0m\u001b[0mt\u001b[0m\u001b[0;34m)\u001b[0m \u001b[0;32melse\u001b[0m \u001b[0;34m'd->d'\u001b[0m\u001b[0;34m\u001b[0m\u001b[0;34m\u001b[0m\u001b[0m\n\u001b[1;32m    544\u001b[0m     \u001b[0mextobj\u001b[0m \u001b[0;34m=\u001b[0m \u001b[0mget_linalg_error_extobj\u001b[0m\u001b[0;34m(\u001b[0m\u001b[0m_raise_linalgerror_singular\u001b[0m\u001b[0;34m)\u001b[0m\u001b[0;34m\u001b[0m\u001b[0;34m\u001b[0m\u001b[0m\n\u001b[0;32m--> 545\u001b[0;31m     \u001b[0mainv\u001b[0m \u001b[0;34m=\u001b[0m \u001b[0m_umath_linalg\u001b[0m\u001b[0;34m.\u001b[0m\u001b[0minv\u001b[0m\u001b[0;34m(\u001b[0m\u001b[0ma\u001b[0m\u001b[0;34m,\u001b[0m \u001b[0msignature\u001b[0m\u001b[0;34m=\u001b[0m\u001b[0msignature\u001b[0m\u001b[0;34m,\u001b[0m \u001b[0mextobj\u001b[0m\u001b[0;34m=\u001b[0m\u001b[0mextobj\u001b[0m\u001b[0;34m)\u001b[0m\u001b[0;34m\u001b[0m\u001b[0;34m\u001b[0m\u001b[0m\n\u001b[0m\u001b[1;32m    546\u001b[0m     \u001b[0;32mreturn\u001b[0m \u001b[0mwrap\u001b[0m\u001b[0;34m(\u001b[0m\u001b[0mainv\u001b[0m\u001b[0;34m.\u001b[0m\u001b[0mastype\u001b[0m\u001b[0;34m(\u001b[0m\u001b[0mresult_t\u001b[0m\u001b[0;34m,\u001b[0m \u001b[0mcopy\u001b[0m\u001b[0;34m=\u001b[0m\u001b[0;32mFalse\u001b[0m\u001b[0;34m)\u001b[0m\u001b[0;34m)\u001b[0m\u001b[0;34m\u001b[0m\u001b[0;34m\u001b[0m\u001b[0m\n\u001b[1;32m    547\u001b[0m \u001b[0;34m\u001b[0m\u001b[0m\n",
      "\u001b[0;32m~/opt/anaconda3/lib/python3.9/site-packages/numpy/linalg/linalg.py\u001b[0m in \u001b[0;36m_raise_linalgerror_singular\u001b[0;34m(err, flag)\u001b[0m\n\u001b[1;32m     86\u001b[0m \u001b[0;34m\u001b[0m\u001b[0m\n\u001b[1;32m     87\u001b[0m \u001b[0;32mdef\u001b[0m \u001b[0m_raise_linalgerror_singular\u001b[0m\u001b[0;34m(\u001b[0m\u001b[0merr\u001b[0m\u001b[0;34m,\u001b[0m \u001b[0mflag\u001b[0m\u001b[0;34m)\u001b[0m\u001b[0;34m:\u001b[0m\u001b[0;34m\u001b[0m\u001b[0;34m\u001b[0m\u001b[0m\n\u001b[0;32m---> 88\u001b[0;31m     \u001b[0;32mraise\u001b[0m \u001b[0mLinAlgError\u001b[0m\u001b[0;34m(\u001b[0m\u001b[0;34m\"Singular matrix\"\u001b[0m\u001b[0;34m)\u001b[0m\u001b[0;34m\u001b[0m\u001b[0;34m\u001b[0m\u001b[0m\n\u001b[0m\u001b[1;32m     89\u001b[0m \u001b[0;34m\u001b[0m\u001b[0m\n\u001b[1;32m     90\u001b[0m \u001b[0;32mdef\u001b[0m \u001b[0m_raise_linalgerror_nonposdef\u001b[0m\u001b[0;34m(\u001b[0m\u001b[0merr\u001b[0m\u001b[0;34m,\u001b[0m \u001b[0mflag\u001b[0m\u001b[0;34m)\u001b[0m\u001b[0;34m:\u001b[0m\u001b[0;34m\u001b[0m\u001b[0;34m\u001b[0m\u001b[0m\n",
      "\u001b[0;31mLinAlgError\u001b[0m: Singular matrix"
     ]
    }
   ],
   "source": [
    "m3_inverse = np.linalg.inv(m3)"
   ]
  },
  {
   "cell_type": "markdown",
   "id": "efe7e568",
   "metadata": {},
   "source": [
    "When we try to invert m3, we will get an error of 'singular matrix', which means m3 cannot be inverted by matrix's definition as it is sigular."
   ]
  },
  {
   "cell_type": "code",
   "execution_count": null,
   "id": "774d144e",
   "metadata": {},
   "outputs": [
    {
     "name": "stdout",
     "output_type": "stream",
     "text": [
      "0.0\n"
     ]
    }
   ],
   "source": [
    "m3_determinant = np.linalg.det(m3)\n",
    "print(m3_determinant)"
   ]
  },
  {
   "cell_type": "code",
   "execution_count": null,
   "id": "0ae01cfd",
   "metadata": {},
   "outputs": [
    {
     "name": "stdout",
     "output_type": "stream",
     "text": [
      "[[ 1  3  5]\n",
      " [ 4 12  8]\n",
      " [ 2  0  7]]\n"
     ]
    }
   ],
   "source": [
    "v2 = np.array([2,0,7])\n",
    "m4 = np.append(m1, [v2], axis=0)\n",
    "print(m4)"
   ]
  },
  {
   "cell_type": "code",
   "execution_count": null,
   "id": "7580b1a3",
   "metadata": {},
   "outputs": [
    {
     "name": "stdout",
     "output_type": "stream",
     "text": [
      "[[-1.16666667  0.29166667  0.5       ]\n",
      " [ 0.16666667  0.04166667 -0.16666667]\n",
      " [ 0.33333333 -0.08333333  0.        ]]\n"
     ]
    }
   ],
   "source": [
    "m4_inverse = np.linalg.inv(m4)\n",
    "print(m4_inverse)"
   ]
  },
  {
   "cell_type": "code",
   "execution_count": null,
   "id": "8d9f5ab6",
   "metadata": {},
   "outputs": [
    {
     "name": "stdout",
     "output_type": "stream",
     "text": [
      "-72.0\n"
     ]
    }
   ],
   "source": [
    "m4_determinant = np.linalg.det(m4)\n",
    "print(m4_determinant)"
   ]
  },
  {
   "cell_type": "markdown",
   "id": "c878e854",
   "metadata": {},
   "source": [
    "Not all matrices can be inverted, as for a matrix to be invertible it has to satisfy some conditions like: square matrix, full rank and non-zero determinant."
   ]
  },
  {
   "cell_type": "code",
   "execution_count": null,
   "id": "50ed1858",
   "metadata": {},
   "outputs": [
    {
     "name": "stdout",
     "output_type": "stream",
     "text": [
      "[-0.74625347 13.70776234  7.03849113]\n",
      "[[-0.95796008  0.25760791  0.01007287]\n",
      " [ 0.14538858  0.96319186 -0.85203586]\n",
      " [ 0.24733507  0.0768089   0.5233865 ]]\n"
     ]
    }
   ],
   "source": [
    "m4_eigenvalues, m4_eigenvectors = np.linalg.eig(m4)\n",
    "print(m4_eigenvalues)\n",
    "print(m4_eigenvectors)"
   ]
  },
  {
   "cell_type": "markdown",
   "id": "0c81cadf",
   "metadata": {},
   "source": [
    "# Section2: Probability"
   ]
  },
  {
   "cell_type": "code",
   "execution_count": null,
   "id": "645c3990",
   "metadata": {},
   "outputs": [
    {
     "data": {
      "image/png": "[encoded data removed]",
      "text/plain": [
       "<Figure size 432x288 with 1 Axes>"
      ]
     },
     "metadata": {
      "needs_background": "light"
     },
     "output_type": "display_data"
    }
   ],
   "source": [
    "np.random.seed(155)\n",
    "\n",
    "x1 = np.random.normal(loc=15, scale=2, size=40)\n",
    "x2 = np.random.normal(loc=17, scale=1.5, size=40)\n",
    "\n",
    "plt.hist(x1, bins=10, alpha=0.5, label='x1')\n",
    "plt.hist(x2, bins=10, alpha=0.5, label='x2')\n",
    "\n",
    "plt.xlabel('Observation')\n",
    "plt.ylabel('Frequency')\n",
    "plt.title('Histograms of x1 and x2')\n",
    "\n",
    "plt.legend()\n",
    "\n",
    "plt.show()"
   ]
  },
  {
   "cell_type": "code",
   "execution_count": null,
   "id": "506b59e0",
   "metadata": {},
   "outputs": [
    {
     "data": {
      "image/png": "[encoded data removed]",
      "text/plain": [
       "<Figure size 432x288 with 1 Axes>"
      ]
     },
     "metadata": {
      "needs_background": "light"
     },
     "output_type": "display_data"
    }
   ],
   "source": [
    "x3 = x2 - x1\n",
    "\n",
    "plt.hist(x3, bins=10, alpha=0.5, label='x3')\n",
    "\n",
    "plt.xlabel('Difference')\n",
    "plt.ylabel('Frequency')\n",
    "plt.title('Histogram of Differences (x3 = x2 - x1)')\n",
    "\n",
    "plt.show()"
   ]
  },
  {
   "cell_type": "markdown",
   "id": "8d2b03b5",
   "metadata": {},
   "source": [
    "# Section3: Statistics"
   ]
  },
  {
   "cell_type": "code",
   "execution_count": null,
   "id": "875df4a8",
   "metadata": {},
   "outputs": [
    {
     "name": "stdout",
     "output_type": "stream",
     "text": [
      "Mean of x1: 14.802853912665578\n",
      "Mean of x3: 1.978676322071194\n",
      "Median of x1: 14.895544528517114\n",
      "Median of x3: 1.992652158933761\n",
      "Mode of x3: ModeResult(mode=array([-3.42928537]), count=array([1]))\n",
      "Mode of rounded x3: ModeResult(mode=array([2.]), count=array([7]))\n"
     ]
    }
   ],
   "source": [
    "mean_x1 = np.mean(x1)\n",
    "mean_x3 = np.mean(x3)\n",
    "\n",
    "median_x1 = np.median(x1)\n",
    "median_x3 = np.median(x3)\n",
    "\n",
    "mode_x3 = stats.mode(x3)\n",
    "\n",
    "print(\"Mean of x1:\", mean_x1)\n",
    "print(\"Mean of x3:\", mean_x3)\n",
    "\n",
    "print(\"Median of x1:\", median_x1)\n",
    "print(\"Median of x3:\", median_x3)\n",
    "\n",
    "print(\"Mode of x3:\", mode_x3)\n",
    "\n",
    "rounded_x3 = np.round(x3)\n",
    "\n",
    "rounded_mode_x3 = stats.mode(rounded_x3)\n",
    "\n",
    "print(\"Mode of rounded x3:\", rounded_mode_x3)\n"
   ]
  },
  {
   "cell_type": "markdown",
   "id": "f6d18251",
   "metadata": {},
   "source": [
    "Regarding part a of the question, the mode values for x3 may not be what we expect due to the continuous nature of the differences. Since x3 is obtained by subtracting two normal distributions, the resulting distribution may not have a clear mode. For part b of the question, if we round the values of x3 to the nearest integer using the np.round() function, we will obtain a discrete set of values. This discrete distribution will have a mode that represents the most frequently occurring value in the rounded set."
   ]
  },
  {
   "cell_type": "code",
   "execution_count": null,
   "id": "d51b40ca",
   "metadata": {},
   "outputs": [
    {
     "name": "stdout",
     "output_type": "stream",
     "text": [
      "Sample variance of x1: 3.8009307400859713\n",
      "Sample standard deviation of x1: 1.949597584140371\n",
      "Standard error of x1: 0.30825844433226685\n",
      "Sample variance of x3: 6.95429882623408\n",
      "Sample standard deviation of x3: 2.637100458123293\n",
      "Standard error of x3: 0.41696219331715434\n"
     ]
    }
   ],
   "source": [
    "var_x1 = np.var(x1, ddof=1)\n",
    "std_x1 = np.std(x1, ddof=1)\n",
    "\n",
    "var_x3 = np.var(x3, ddof=1)\n",
    "std_x3 = np.std(x3, ddof=1)\n",
    "\n",
    "se_x1 = stats.sem(x1)\n",
    "se_x3 = stats.sem(x3)\n",
    "\n",
    "print(\"Sample variance of x1:\", var_x1)\n",
    "print(\"Sample standard deviation of x1:\", std_x1)\n",
    "print(\"Standard error of x1:\", se_x1)\n",
    "\n",
    "print(\"Sample variance of x3:\", var_x3)\n",
    "print(\"Sample standard deviation of x3:\", std_x3)\n",
    "print(\"Standard error of x3:\", se_x3)"
   ]
  },
  {
   "cell_type": "code",
   "execution_count": null,
   "id": "6ef0dda0",
   "metadata": {},
   "outputs": [
    {
     "name": "stdout",
     "output_type": "stream",
     "text": [
      "Range of x1: 8.653972842075435\n",
      "Range of x3: 12.051483453898415\n",
      "Q1 of x1: 13.36709336572737\n",
      "Q3 of x1: 15.964637102858198\n",
      "Q1 of x3: 0.5217269812732308\n",
      "Q3 of x3: 3.6767628860143486\n",
      "IQR of x1: 2.5975437371308274\n",
      "IQR of x3: 3.155035904741118\n"
     ]
    }
   ],
   "source": [
    "range_x1 = np.ptp(x1)\n",
    "range_x3 = np.ptp(x3)\n",
    "\n",
    "q1_x1 = np.percentile(x1, 25)\n",
    "q3_x1 = np.percentile(x1, 75)\n",
    "\n",
    "q1_x3 = np.percentile(x3, 25)\n",
    "q3_x3 = np.percentile(x3, 75)\n",
    "\n",
    "iqr_x1 = q3_x1 - q1_x1\n",
    "iqr_x3 = q3_x3 - q1_x3\n",
    "\n",
    "print(\"Range of x1:\", range_x1)\n",
    "print(\"Range of x3:\", range_x3)\n",
    "\n",
    "print(\"Q1 of x1:\", q1_x1)\n",
    "print(\"Q3 of x1:\", q3_x1)\n",
    "\n",
    "print(\"Q1 of x3:\", q1_x3)\n",
    "print(\"Q3 of x3:\", q3_x3)\n",
    "\n",
    "print(\"IQR of x1:\", iqr_x1)\n",
    "print(\"IQR of x3:\", iqr_x3)"
   ]
  },
  {
   "cell_type": "markdown",
   "id": "d67c2417",
   "metadata": {},
   "source": [
    "The quantity with a greater spread in the distribution can be determined by comparing the ranges, quartiles, and IQRs. A larger range, a greater difference between Q1 and Q3, or a larger IQR indicates a higher degree of variability or spread in the data. Comparing these measures for x1 and x3 will reveal which quantity is more variable."
   ]
  },
  {
   "cell_type": "code",
   "execution_count": null,
   "id": "013a71e2",
   "metadata": {},
   "outputs": [],
   "source": []
  }
 ],
 "metadata": {
  "kernelspec": {
   "display_name": "Python 3 (ipykernel)",
   "language": "python",
   "name": "python3"
  },
  "language_info": {
   "codemirror_mode": {
    "name": "ipython",
    "version": 3
   },
   "file_extension": ".py",
   "mimetype": "text/x-python",
   "name": "python",
   "nbconvert_exporter": "python",
   "pygments_lexer": "ipython3",
   "version": "3.9.7"
  }
 },
 "nbformat": 4,
 "nbformat_minor": 5
}
