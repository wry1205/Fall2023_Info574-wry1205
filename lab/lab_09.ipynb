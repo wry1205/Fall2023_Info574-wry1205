{
 "cells": [
  {
   "cell_type": "markdown",
   "id": "456df206",
   "metadata": {},
   "source": [
    "# Section 1: Naïve Bayes with Categorical Data - Manual Calculation"
   ]
  },
  {
   "cell_type": "markdown",
   "id": "e0172be0",
   "metadata": {},
   "source": [
    "Return to the worked example in the slides."
   ]
  },
  {
   "cell_type": "code",
   "execution_count": 25,
   "id": "f5c5c592",
   "metadata": {},
   "outputs": [],
   "source": [
    "import numpy as np\n",
    "import pandas as pd\n",
    "from sklearn.naive_bayes import CategoricalNB\n",
    "from sklearn.preprocessing import OrdinalEncoder"
   ]
  },
  {
   "cell_type": "markdown",
   "id": "988551ce",
   "metadata": {},
   "source": [
    "**1. Suppose tomorrow will be mild, rainy, and windy, with high humidity. Should we play golf tomorrow? Show how the answer was calculated.**"
   ]
  },
  {
   "cell_type": "code",
   "execution_count": 26,
   "id": "55b1bc7b",
   "metadata": {},
   "outputs": [],
   "source": [
    "df1 = pd.read_csv('PlayGolfNext.csv')\n",
    "df2 = pd.read_csv('PlayGolf.csv')"
   ]
  },
  {
   "cell_type": "code",
   "execution_count": 27,
   "id": "640f789e",
   "metadata": {},
   "outputs": [
    {
     "name": "stdout",
     "output_type": "stream",
     "text": [
      "                  Day   Outlook Temperature Humidity  Windy\n",
      "0  Day After Tomorrow  Overcast        Cool     High  False\n",
      "1            Tomorrow     Rainy        Mild     High   True\n",
      "2               Today     Sunny         Hot   Normal  False\n"
     ]
    }
   ],
   "source": [
    "print(df1.head())"
   ]
  },
  {
   "cell_type": "code",
   "execution_count": 28,
   "id": "0c751a1b",
   "metadata": {},
   "outputs": [
    {
     "name": "stdout",
     "output_type": "stream",
     "text": [
      "    Outlook Temperature Humidity  Windy PlayGolf\n",
      "0     Rainy         Hot     High  False       No\n",
      "1     Rainy         Hot     High   True       No\n",
      "2  Overcast         Hot     High  False      Yes\n",
      "3     Sunny        Mild     High  False      Yes\n",
      "4     Sunny        Cool   Normal  False      Yes\n"
     ]
    }
   ],
   "source": [
    "print(df2.head())"
   ]
  },
  {
   "cell_type": "code",
   "execution_count": 1,
   "id": "5dfdedd9",
   "metadata": {},
   "outputs": [
    {
     "name": "stdout",
     "output_type": "stream",
     "text": [
      "Probability of playing: 0.007054673721340387\n",
      "Probability of not playing: 0.04114285714285714\n"
     ]
    }
   ],
   "source": [
    "#prob of playing = Mild_P * Rainy_P * Windy_P * HighHumidity_P * playGolf\n",
    "probP = (2/9) * (4/9) * (3/9) * (3/9) * (9/14)\n",
    "print(\"Probability of playing:\", probP)\n",
    "\n",
    "#prob of not playing = Mild_N * Rainy_N * Windy_N * HighHumidity_N * notPlayGolf\n",
    "probNP = (2/5) * (3/5) * (3/5) * (4/5) * (5/14)\n",
    "print(\"Probability of not playing:\", probNP)"
   ]
  },
  {
   "cell_type": "markdown",
   "id": "f4150c25",
   "metadata": {},
   "source": [
    "We should not play golf tomorrow, as the probility of not playing is higher."
   ]
  },
  {
   "cell_type": "markdown",
   "id": "796a62b6",
   "metadata": {},
   "source": [
    "**2. Is the assumption that outlook and humidity are independent reasonable? Explain why or why not.**\n",
    "\n",
    "Hint: Think about the different values for outlook."
   ]
  },
  {
   "cell_type": "markdown",
   "id": "f639cb88",
   "metadata": {},
   "source": [
    "The assumption is not quite reasonable, as there are lots of factors influencing the weather."
   ]
  },
  {
   "cell_type": "markdown",
   "id": "2496f30a",
   "metadata": {},
   "source": [
    "# Section 2: Naïve Bayes with Categorical Data - Sklearn"
   ]
  },
  {
   "cell_type": "markdown",
   "id": "77592701",
   "metadata": {},
   "source": [
    "**Again, we are using the example in the slides. The data set for this problem is PlayGolf.csv. We will be using CategoricalNB from sklearn. The link is for sklearn documentation where sample code can be found.**"
   ]
  },
  {
   "cell_type": "markdown",
   "id": "52ff4afa",
   "metadata": {},
   "source": [
    "**1. Temperature and Outlook are ordinal variables. Instead of converting them to dummy variables, they need to be recoded as ordinal variables. Use this link for guidance.**"
   ]
  },
  {
   "cell_type": "code",
   "execution_count": 30,
   "id": "9db8d0bb",
   "metadata": {},
   "outputs": [],
   "source": [
    "orderT = ['Cool', 'Mild', 'Hot']  \n",
    "orderO = ['Sunny', 'Overcast', 'Rainy']  \n",
    "\n",
    "encoder = OrdinalEncoder(categories = [orderO, orderT])\n",
    "\n",
    "df2[['Outlook', 'Temperature']] = encoder.fit_transform(df2[['Outlook', 'Temperature']])"
   ]
  },
  {
   "cell_type": "markdown",
   "id": "f803f1a9",
   "metadata": {},
   "source": [
    "**2. The other variables need to be recoded to binary variables. Because Windy is Boolean, it does not need to be recoded.**"
   ]
  },
  {
   "cell_type": "code",
   "execution_count": 31,
   "id": "c3dba0d4",
   "metadata": {},
   "outputs": [],
   "source": [
    "df2['Humidity'] = df2['Humidity'].map({'Normal': 0, 'High': 1})"
   ]
  },
  {
   "cell_type": "code",
   "execution_count": 32,
   "id": "a5b1235d",
   "metadata": {},
   "outputs": [
    {
     "name": "stdout",
     "output_type": "stream",
     "text": [
      "    Outlook  Temperature  Humidity  Windy PlayGolf\n",
      "0       2.0          2.0         1  False       No\n",
      "1       2.0          2.0         1   True       No\n",
      "2       1.0          2.0         1  False      Yes\n",
      "3       0.0          1.0         1  False      Yes\n",
      "4       0.0          0.0         0  False      Yes\n",
      "5       0.0          0.0         0   True       No\n",
      "6       1.0          0.0         0   True      Yes\n",
      "7       2.0          1.0         1  False       No\n",
      "8       2.0          0.0         0  False      Yes\n",
      "9       0.0          1.0         0  False      Yes\n",
      "10      2.0          1.0         0   True      Yes\n",
      "11      1.0          1.0         1   True      Yes\n",
      "12      1.0          2.0         0  False      Yes\n",
      "13      0.0          1.0         1   True       No\n"
     ]
    }
   ],
   "source": [
    "print(df2)"
   ]
  },
  {
   "cell_type": "markdown",
   "id": "c802dc25",
   "metadata": {},
   "source": [
    "**3. Fit the data using CategoricalNB.**"
   ]
  },
  {
   "cell_type": "code",
   "execution_count": 33,
   "id": "3046a907",
   "metadata": {},
   "outputs": [
    {
     "data": {
      "text/plain": [
       "array([0, 0, 1, 1, 1, 1, 1, 0, 1, 1, 1, 1, 1, 0])"
      ]
     },
     "execution_count": 33,
     "metadata": {},
     "output_type": "execute_result"
    }
   ],
   "source": [
    "X = df2[['Outlook', 'Temperature', 'Humidity', 'Windy']]\n",
    "y = df2['PlayGolf'].map({'No': 0, 'Yes': 1})\n",
    "\n",
    "model = CategoricalNB()\n",
    "model.fit(X, y)\n",
    "model.predict(X)"
   ]
  },
  {
   "cell_type": "markdown",
   "id": "32440ba8",
   "metadata": {},
   "source": [
    "**4. Using the data set, PlayGolfNext.csv, use your Naïve Bayes model to predict the next few days. Which days should you play golf?**"
   ]
  },
  {
   "cell_type": "code",
   "execution_count": 34,
   "id": "8d2292e2",
   "metadata": {},
   "outputs": [
    {
     "data": {
      "text/plain": [
       "array([1, 0, 1])"
      ]
     },
     "execution_count": 34,
     "metadata": {},
     "output_type": "execute_result"
    }
   ],
   "source": [
    "df1[['Outlook', 'Temperature']] = encoder.transform(df1[['Outlook', 'Temperature']])\n",
    "df1['Humidity'] = df1['Humidity'].map({'Normal': 0, 'High': 1})\n",
    "\n",
    "X_new = df1[['Outlook', 'Temperature', 'Humidity', 'Windy']]\n",
    "\n",
    "model.predict(X_new)"
   ]
  },
  {
   "cell_type": "markdown",
   "id": "388b2d71",
   "metadata": {},
   "source": [
    "**5. Does the recommendation (Yes or No to play golf) for today and tomorrow match the class example and your manual prediction above?**"
   ]
  },
  {
   "cell_type": "markdown",
   "id": "aea24a68",
   "metadata": {},
   "source": [
    "Yes, both types of predictions suggest to play golf today and not to play tomorrow."
   ]
  }
 ],
 "metadata": {
  "kernelspec": {
   "display_name": "Python 3 (ipykernel)",
   "language": "python",
   "name": "python3"
  },
  "language_info": {
   "codemirror_mode": {
    "name": "ipython",
    "version": 3
   },
   "file_extension": ".py",
   "mimetype": "text/x-python",
   "name": "python",
   "nbconvert_exporter": "python",
   "pygments_lexer": "ipython3",
   "version": "3.9.7"
  }
 },
 "nbformat": 4,
 "nbformat_minor": 5
}
