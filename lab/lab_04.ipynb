{
 "cells": [
  {
   "cell_type": "markdown",
   "id": "94d67ed3",
   "metadata": {},
   "source": [
    "# Section 1: Group Comparisons with Continuous Data"
   ]
  },
  {
   "cell_type": "markdown",
   "id": "69209283",
   "metadata": {},
   "source": [
    "This exercise will be done in Python. You need to answer all questions to get full points for completing the lab.\n",
    "\n",
    "**1. Read the males_ht_wt_cntry.csv file into a data frame.**"
   ]
  },
  {
   "cell_type": "code",
   "execution_count": 31,
   "id": "335ffb01",
   "metadata": {},
   "outputs": [],
   "source": [
    "import pandas as pd\n",
    "import numpy as np\n",
    "import matplotlib.pyplot as plt\n",
    "from scipy import stats\n",
    "import statsmodels.api as sm\n",
    "from statsmodels.stats.multicomp import pairwise_tukeyhsd\n",
    "\n",
    "df = pd.read_csv('males_ht_wt_cntry.csv')"
   ]
  },
  {
   "cell_type": "markdown",
   "id": "b10deff0",
   "metadata": {},
   "source": [
    "**2. Examine the data.**\n",
    "\n",
    "a. Display some rows to make sure it imported correctly."
   ]
  },
  {
   "cell_type": "code",
   "execution_count": 14,
   "id": "f7d4b7c7",
   "metadata": {},
   "outputs": [
    {
     "name": "stdout",
     "output_type": "stream",
     "text": [
      "   Height  Weight Country\n",
      "0    64.0   144.0   Italy\n",
      "1    68.0   150.0   Italy\n",
      "2    66.0   147.0   Italy\n",
      "3    71.0   170.0   Italy\n",
      "4    65.0   163.0   Italy\n"
     ]
    }
   ],
   "source": [
    "print(df.head())"
   ]
  },
  {
   "cell_type": "markdown",
   "id": "1a1350a8",
   "metadata": {},
   "source": [
    "b. Generate histograms of the heights by country."
   ]
  },
  {
   "cell_type": "code",
   "execution_count": 15,
   "id": "1f22fecb",
   "metadata": {},
   "outputs": [
    {
     "data": {
      "image/png": "[encoded data removed]",
      "text/plain": [
       "<Figure size 864x432 with 1 Axes>"
      ]
     },
     "metadata": {
      "needs_background": "light"
     },
     "output_type": "display_data"
    }
   ],
   "source": [
    "plt.figure(figsize = (12, 6))\n",
    "for country in df['Country'].unique():\n",
    "    plt.hist(df[df['Country'] == country]['Height'], alpha = 0.5, label = country)\n",
    "\n",
    "plt.xlabel('Height')\n",
    "plt.ylabel('Frequency')\n",
    "plt.title('Height Distribution by Country')\n",
    "plt.legend()\n",
    "plt.show()"
   ]
  },
  {
   "cell_type": "markdown",
   "id": "b56c6049",
   "metadata": {},
   "source": [
    "c. Generate histograms of the weights by country."
   ]
  },
  {
   "cell_type": "code",
   "execution_count": 16,
   "id": "95fc0567",
   "metadata": {},
   "outputs": [
    {
     "data": {
      "image/png": "[encoded data removed]",
      "text/plain": [
       "<Figure size 864x432 with 1 Axes>"
      ]
     },
     "metadata": {
      "needs_background": "light"
     },
     "output_type": "display_data"
    }
   ],
   "source": [
    "plt.figure(figsize = (12, 6))\n",
    "for country in df['Country'].unique():\n",
    "    plt.hist(df[df['Country'] == country]['Weight'], alpha = 0.5, label = country)\n",
    "\n",
    "plt.xlabel('Weight')\n",
    "plt.ylabel('Frequency')\n",
    "plt.title('Weight Distribution by Country')\n",
    "plt.legend()\n",
    "plt.show()"
   ]
  },
  {
   "cell_type": "markdown",
   "id": "9c6560b8",
   "metadata": {},
   "source": [
    "**3. Conduct an ANOVA test to determine if the weights differ by nationality and interpret your results. Use this link as a reference. Make sure you use Levene’s test to check if the variance is close to equal.**"
   ]
  },
  {
   "cell_type": "code",
   "execution_count": 17,
   "id": "6e41460c",
   "metadata": {},
   "outputs": [
    {
     "name": "stdout",
     "output_type": "stream",
     "text": [
      "Variances are approximately equal (p-value > 0.05). Proceed with ANOVA.\n",
      "ANOVA test indicates that there is a significant difference in weights by nationality.\n"
     ]
    }
   ],
   "source": [
    "groups = [df[df['Country'] == country]['Weight'] for country in df['Country'].unique()]\n",
    "levene_test = stats.levene(*groups)\n",
    "\n",
    "if levene_test.pvalue > 0.05:\n",
    "    print(\"Variances are approximately equal (p-value > 0.05). Proceed with ANOVA.\")\n",
    "    anova_result = stats.f_oneway(*groups)\n",
    "    if anova_result.pvalue < 0.05:\n",
    "        print(\"ANOVA test indicates that there is a significant difference in weights by nationality.\")\n",
    "    else:\n",
    "        print(\"ANOVA test does not indicate a significant difference in weights by nationality.\")\n",
    "else:\n",
    "    print(\"Variances are not equal (p-value < 0.05). ANOVA assumptions may be violated.\")"
   ]
  },
  {
   "cell_type": "markdown",
   "id": "839624f9",
   "metadata": {},
   "source": [
    "**4. ANOVA won’t tell you which sets of weights differ. You will need to compare each group against each other to determine that. Use this link as a reference.**\n",
    "\n",
    "a. Conduct a test to determine if the weights of the Italian males were significantly different than the Dutch males (from the Netherlands) and interpret your results."
   ]
  },
  {
   "cell_type": "code",
   "execution_count": 18,
   "id": "acd5be62",
   "metadata": {},
   "outputs": [
    {
     "name": "stdout",
     "output_type": "stream",
     "text": [
      "The weights of Italian males are significantly different from Dutch males (p-value < 0.05).\n"
     ]
    }
   ],
   "source": [
    "italian_weights = df[df['Country'] == 'Italy']['Weight']\n",
    "dutch_weights = df[df['Country'] == 'Netherlands']['Weight']\n",
    "t_stat, p_value = stats.ttest_ind(italian_weights, dutch_weights)\n",
    "\n",
    "if p_value < 0.05:\n",
    "    print(\"The weights of Italian males are significantly different from Dutch males (p-value < 0.05).\")\n",
    "else:\n",
    "    print(\"There is no significant difference in weights between Italian and Dutch males (p-value >= 0.05).\")"
   ]
  },
  {
   "cell_type": "markdown",
   "id": "435709ad",
   "metadata": {},
   "source": [
    "b. Conduct a test to determine if the weights of the American males were significantly different than the Dutch males (from the Netherlands) and interpret your results."
   ]
  },
  {
   "cell_type": "code",
   "execution_count": 21,
   "id": "5197d479",
   "metadata": {},
   "outputs": [
    {
     "name": "stdout",
     "output_type": "stream",
     "text": [
      "There is no significant difference in weights between American and Dutch males (p-value >= 0.05).\n"
     ]
    }
   ],
   "source": [
    "american_weights = df[df['Country'] == 'USA']['Weight']\n",
    "t_stat, p_value = stats.ttest_ind(american_weights, dutch_weights)\n",
    "\n",
    "if p_value < 0.05:\n",
    "    print(\"The weights of American males are significantly different from Dutch males (p-value < 0.05).\")\n",
    "else:\n",
    "    print(\"There is no significant difference in weights between American and Dutch males (p-value >= 0.05).\")"
   ]
  },
  {
   "cell_type": "markdown",
   "id": "9a6e7ed8",
   "metadata": {},
   "source": [
    "**5. Conducting multiple tests like this increases the odds of getting false significant results. If you had conducted tests for 3 comparisons (Italian vs Dutch, Italian vs American, American vs Dutch), what is the probability one of these t-tests is not actually significant (i.e. false positive)?**"
   ]
  },
  {
   "cell_type": "code",
   "execution_count": 22,
   "id": "c1b56026",
   "metadata": {},
   "outputs": [
    {
     "name": "stdout",
     "output_type": "stream",
     "text": [
      "The probability of at least one false positive is approximately 0.1426\n"
     ]
    }
   ],
   "source": [
    "alpha = 0.05\n",
    "num_comparisons = 3\n",
    "fw_error_rate = 1 - (1 - alpha) ** num_comparisons\n",
    "\n",
    "print(f\"The probability of at least one false positive is approximately {fw_error_rate:.4f}\")"
   ]
  },
  {
   "cell_type": "markdown",
   "id": "ae4f537c",
   "metadata": {},
   "source": [
    "**6. When comparing these groups, it’s better to control the FWER. Use a multiple comparison procedure with a Tukey adjustment. See this link for how to do this in Python using the pairwise_tukeyhsd() function.**"
   ]
  },
  {
   "cell_type": "code",
   "execution_count": 23,
   "id": "5e3a13e6",
   "metadata": {},
   "outputs": [
    {
     "name": "stdout",
     "output_type": "stream",
     "text": [
      "     Multiple Comparison of Means - Tukey HSD, FWER=0.05     \n",
      "=============================================================\n",
      "   group1      group2   meandiff p-adj  lower   upper  reject\n",
      "-------------------------------------------------------------\n",
      "      Italy Netherlands  19.2839 0.001 14.8583 23.7095   True\n",
      "      Italy         USA  20.0048 0.001 15.6954 24.3141   True\n",
      "Netherlands         USA   0.7208   0.9 -3.4342  4.8759  False\n",
      "-------------------------------------------------------------\n"
     ]
    }
   ],
   "source": [
    "tukey_result = pairwise_tukeyhsd(df['Weight'], df['Country'])\n",
    "\n",
    "print(tukey_result)"
   ]
  },
  {
   "cell_type": "markdown",
   "id": "728abc35",
   "metadata": {},
   "source": [
    "# Section 2: Group Comparisons with Categorical Data"
   ]
  },
  {
   "cell_type": "markdown",
   "id": "14a4c3fd",
   "metadata": {},
   "source": [
    "**1. Create a new BMI column. Use the Imperial formula.**"
   ]
  },
  {
   "cell_type": "code",
   "execution_count": 34,
   "id": "b4fe3a14",
   "metadata": {},
   "outputs": [
    {
     "name": "stdout",
     "output_type": "stream",
     "text": [
      "0      24.714844\n",
      "1      22.804931\n",
      "2      23.723829\n",
      "3      23.707598\n",
      "4      27.121657\n",
      "         ...    \n",
      "235    23.108997\n",
      "236    23.613624\n",
      "237    25.987818\n",
      "238    23.528980\n",
      "239    27.517950\n",
      "Name: BMI, Length: 240, dtype: float64\n"
     ]
    }
   ],
   "source": [
    "df['BMI'] = (df['Weight'] * 703 / (df['Height'] ** 2))\n",
    "\n",
    "print(df['BMI'])"
   ]
  },
  {
   "cell_type": "markdown",
   "id": "693d0b6d",
   "metadata": {},
   "source": [
    "**2. Create another new column ‘Overweight’ that is a 1 if BMI >= 25 and 0 otherwise. There are several ways to do this in Python.**"
   ]
  },
  {
   "cell_type": "code",
   "execution_count": 41,
   "id": "a289f98e",
   "metadata": {},
   "outputs": [
    {
     "name": "stdout",
     "output_type": "stream",
     "text": [
      "0      0\n",
      "1      0\n",
      "2      0\n",
      "3      0\n",
      "4      1\n",
      "      ..\n",
      "235    0\n",
      "236    0\n",
      "237    1\n",
      "238    0\n",
      "239    1\n",
      "Name: Overweight, Length: 240, dtype: int64\n"
     ]
    }
   ],
   "source": [
    "df['Overweight'] = (df['BMI'] >= 25).astype(int)\n",
    "\n",
    "print(df['Overweight'])"
   ]
  },
  {
   "cell_type": "markdown",
   "id": "6e874f5e",
   "metadata": {},
   "source": [
    "**3. Create a contingency table of overweight by nationality and examine it. Describe any differences you see between nationalities.**"
   ]
  },
  {
   "cell_type": "code",
   "execution_count": 27,
   "id": "007de54e",
   "metadata": {},
   "outputs": [
    {
     "name": "stdout",
     "output_type": "stream",
     "text": [
      "Country     Italy  Netherlands  USA\n",
      "Overweight                         \n",
      "0              54           48   38\n",
      "1              16           32   52\n"
     ]
    }
   ],
   "source": [
    "contingency_table = pd.crosstab(df['Overweight'], df['Country'])\n",
    "\n",
    "print(contingency_table)"
   ]
  },
  {
   "cell_type": "markdown",
   "id": "5039ca1d",
   "metadata": {},
   "source": [
    "**4. Conduct a Chi-Sq test using scipy.stats to see if the differences are significant. Explain your findings.**"
   ]
  },
  {
   "cell_type": "code",
   "execution_count": 45,
   "id": "6a59ee30",
   "metadata": {},
   "outputs": [
    {
     "name": "stdout",
     "output_type": "stream",
     "text": [
      "Chi-Square Statistic: 19.892244897959184\n",
      "P-value: 4.79130595387623e-05\n",
      "Degrees of Freedom: 2\n",
      "The differences in overweight status by nationality are statistically significant.\n"
     ]
    }
   ],
   "source": [
    "chi2_stat, p_val, dof, ex = stats.chi2_contingency(contingency_table)\n",
    "\n",
    "print(\"Chi-Square Statistic:\", chi2_stat)\n",
    "print(\"P-value:\", p_val)\n",
    "print(\"Degrees of Freedom:\", dof)\n",
    "\n",
    "if p_val < 0.05:\n",
    "    print(\"The differences in overweight status by nationality are statistically significant.\")\n",
    "else:\n",
    "    print(\"There is no significant difference in overweight status by nationality.\")"
   ]
  },
  {
   "cell_type": "markdown",
   "id": "d514111a",
   "metadata": {},
   "source": [
    "# Section 3: Regression"
   ]
  },
  {
   "cell_type": "markdown",
   "id": "710cbda2",
   "metadata": {},
   "source": [
    "**1. Build a linear regression of to see whether height predicts weight. There are two main modules for conducting linear regression in Python. Use statsmodels. Explain the results.**"
   ]
  },
  {
   "cell_type": "code",
   "execution_count": 29,
   "id": "090e7efa",
   "metadata": {},
   "outputs": [
    {
     "name": "stdout",
     "output_type": "stream",
     "text": [
      "                            OLS Regression Results                            \n",
      "==============================================================================\n",
      "Dep. Variable:                 Weight   R-squared:                       0.364\n",
      "Model:                            OLS   Adj. R-squared:                  0.361\n",
      "Method:                 Least Squares   F-statistic:                     135.9\n",
      "Date:                Thu, 21 Sep 2023   Prob (F-statistic):           3.82e-25\n",
      "Time:                        19:02:36   Log-Likelihood:                -927.86\n",
      "No. Observations:                 240   AIC:                             1860.\n",
      "Df Residuals:                     238   BIC:                             1867.\n",
      "Df Model:                           1                                         \n",
      "Covariance Type:            nonrobust                                         \n",
      "==============================================================================\n",
      "                 coef    std err          t      P>|t|      [0.025      0.975]\n",
      "------------------------------------------------------------------------------\n",
      "const        -28.2547     17.138     -1.649      0.101     -62.016       5.507\n",
      "Height         2.8537      0.245     11.659      0.000       2.371       3.336\n",
      "==============================================================================\n",
      "Omnibus:                        9.561   Durbin-Watson:                   1.524\n",
      "Prob(Omnibus):                  0.008   Jarque-Bera (JB):                4.822\n",
      "Skew:                           0.094   Prob(JB):                       0.0897\n",
      "Kurtosis:                       2.332   Cond. No.                     1.60e+03\n",
      "==============================================================================\n",
      "\n",
      "Notes:\n",
      "[1] Standard Errors assume that the covariance matrix of the errors is correctly specified.\n",
      "[2] The condition number is large, 1.6e+03. This might indicate that there are\n",
      "strong multicollinearity or other numerical problems.\n"
     ]
    },
    {
     "name": "stderr",
     "output_type": "stream",
     "text": [
      "/Users/wry/opt/anaconda3/lib/python3.9/site-packages/statsmodels/tsa/tsatools.py:142: FutureWarning: In a future version of pandas all arguments of concat except for the argument 'objs' will be keyword-only\n",
      "  x = pd.concat(x[::order], 1)\n"
     ]
    }
   ],
   "source": [
    "X = df['Height']\n",
    "y = df['Weight']\n",
    "\n",
    "X = sm.add_constant(X)\n",
    "\n",
    "model = sm.OLS(y, X).fit()\n",
    "\n",
    "print(model.summary())"
   ]
  },
  {
   "cell_type": "markdown",
   "id": "92882444",
   "metadata": {},
   "source": [
    "**2. Fit the same regression model using linear algebra. Compare your resultant $\\beta$ 's to the ones you obtained earlier.**"
   ]
  },
  {
   "cell_type": "code",
   "execution_count": 51,
   "id": "b2a62e1f",
   "metadata": {},
   "outputs": [
    {
     "name": "stdout",
     "output_type": "stream",
     "text": [
      "Intercept (β₀): -28.25470172940304\n",
      "Coefficient for height (β₁): 2.8536531102607694\n"
     ]
    }
   ],
   "source": [
    "X = df['Height']\n",
    "y = df['Weight']\n",
    "\n",
    "X = np.column_stack((np.ones(len(X)), X))\n",
    "\n",
    "beta = np.linalg.inv(X.T @ X) @ X.T @ y\n",
    "\n",
    "print(\"Intercept (\\u03B2\\u2080):\", beta[0])\n",
    "print(\"Coefficient for height (\\u03B2\\u2081):\", beta[1])"
   ]
  }
 ],
 "metadata": {
  "kernelspec": {
   "display_name": "Python 3 (ipykernel)",
   "language": "python",
   "name": "python3"
  },
  "language_info": {
   "codemirror_mode": {
    "name": "ipython",
    "version": 3
   },
   "file_extension": ".py",
   "mimetype": "text/x-python",
   "name": "python",
   "nbconvert_exporter": "python",
   "pygments_lexer": "ipython3",
   "version": "3.9.7"
  }
 },
 "nbformat": 4,
 "nbformat_minor": 5
}
