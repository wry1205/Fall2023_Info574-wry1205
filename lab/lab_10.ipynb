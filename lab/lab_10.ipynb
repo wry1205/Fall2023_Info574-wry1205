{
 "cells": [
  {
   "cell_type": "markdown",
   "id": "f247ffca",
   "metadata": {},
   "source": [
    "**This lab will be done in Python. For the lab to be complete, all questions must be answered.\n",
    "We will be using the county_level_election.csv dataset, which contains 2016 election data. We are going\n",
    "to measure ‘votergap’ as the outcome. This is defined as votergap = % Trump votes - % Clinton votes.\n",
    "The data are one row per unique county. Within the U.S., it is possible to have counties with the same\n",
    "name in different states.**"
   ]
  },
  {
   "cell_type": "code",
   "execution_count": 15,
   "id": "3ac576f4",
   "metadata": {},
   "outputs": [],
   "source": [
    "import pandas as pd\n",
    "import numpy as np\n",
    "import matplotlib.pyplot as plt\n",
    "from sklearn.model_selection import train_test_split, cross_val_score\n",
    "from sklearn.tree import DecisionTreeRegressor"
   ]
  },
  {
   "cell_type": "markdown",
   "id": "9b581e8e",
   "metadata": {},
   "source": [
    "# Section 1. Exploratory Data Analysis"
   ]
  },
  {
   "cell_type": "markdown",
   "id": "71c9dbe1",
   "metadata": {},
   "source": [
    "**1. What is the average votergap, assuming all counties are weighted equally?**"
   ]
  },
  {
   "cell_type": "code",
   "execution_count": 4,
   "id": "dec16fbb",
   "metadata": {},
   "outputs": [
    {
     "name": "stdout",
     "output_type": "stream",
     "text": [
      "      state  fipscode             county  population  hispanic  minority  \\\n",
      "0  Colorado      8117      Summit County       27239    15.173     4.918   \n",
      "1  Colorado      8037       Eagle County       53653    30.040     5.169   \n",
      "2     Idaho     16067    Minidoka County       19226    34.070     5.611   \n",
      "3  Colorado      8113  San Miguel County        7558    10.154     4.747   \n",
      "4      Utah     49051     Wasatch County       21600    13.244     4.125   \n",
      "\n",
      "   female  unemployed  income  nodegree  bachelor  inactivity  obesity  \\\n",
      "0  45.996         2.5   68352       5.4      48.1         8.1     13.1   \n",
      "1  47.231         3.1   76661      10.1      47.3         9.4     11.8   \n",
      "2  49.318         3.7   46332      24.1      11.8        18.3     34.2   \n",
      "3  46.808         3.7   59603       4.7      54.4        12.4     16.7   \n",
      "4  48.812         3.4   65207       9.5      34.4        13.9     23.0   \n",
      "\n",
      "   density  cancer  votergap   trump  clinton  \n",
      "0     46.0    46.2   -27.632  31.530   59.162  \n",
      "1     31.0    47.1   -19.897  36.058   55.955  \n",
      "2     80.0    61.8    54.148  71.135   16.987  \n",
      "3      5.7    62.6   -44.769  23.892   68.662  \n",
      "4    257.8    68.3    25.357  50.471   25.114  \n"
     ]
    }
   ],
   "source": [
    "df = pd.read_csv('county_level_election.csv')\n",
    "\n",
    "print(df.head())"
   ]
  },
  {
   "cell_type": "code",
   "execution_count": 5,
   "id": "e148fbaf",
   "metadata": {},
   "outputs": [
    {
     "name": "stdout",
     "output_type": "stream",
     "text": [
      "The average voter gap, assuming all counties weighted equally, is: 31.723198303979103\n"
     ]
    }
   ],
   "source": [
    "avg_counties = df['votergap'].mean()\n",
    "\n",
    "print(f\"The average voter gap, assuming all counties weighted equally, is: {avg_counties}\")"
   ]
  },
  {
   "cell_type": "markdown",
   "id": "bb77b545",
   "metadata": {},
   "source": [
    "**2. What is the average votergap, assuming all states are weighted equally?**"
   ]
  },
  {
   "cell_type": "code",
   "execution_count": 7,
   "id": "fa21db71",
   "metadata": {},
   "outputs": [
    {
     "name": "stdout",
     "output_type": "stream",
     "text": [
      "state\n",
      "Alabama                 30.624328\n",
      "Arizona                 10.878600\n",
      "Arkansas                34.423400\n",
      "California              -6.351860\n",
      "Colorado                19.812361\n",
      "Connecticut             -6.493500\n",
      "Delaware                -0.899000\n",
      "District of Columbia   -88.725000\n",
      "Florida                 26.953537\n",
      "Georgia                 30.287145\n",
      "Hawaii                 -35.023000\n",
      "Idaho                   45.912690\n",
      "Illinois                32.012833\n",
      "Indiana                 39.984130\n",
      "Iowa                    27.844232\n",
      "Kansas                  53.285067\n",
      "Kentucky                49.859725\n",
      "Louisiana               29.518875\n",
      "Maine                    3.865750\n",
      "Maryland                 6.594125\n",
      "Massachusetts          -29.453214\n",
      "Michigan                22.677976\n",
      "Minnesota               24.104839\n",
      "Mississippi             14.013829\n",
      "Missouri                50.575513\n",
      "Montana                 42.996863\n",
      "Nebraska                58.672263\n",
      "Nevada                  41.088706\n",
      "New Hampshire           -0.277000\n",
      "New Jersey              -7.203381\n",
      "New Mexico               7.346187\n",
      "New York                 9.157694\n",
      "North Carolina          18.132830\n",
      "North Dakota            46.330902\n",
      "Ohio                    34.199670\n",
      "Oklahoma                55.359935\n",
      "Oregon                  20.343778\n",
      "Pennsylvania            30.731896\n",
      "Rhode Island           -14.516600\n",
      "South Carolina           7.956370\n",
      "South Dakota            37.716903\n",
      "Tennessee               49.344872\n",
      "Texas                   46.459667\n",
      "Utah                    43.991630\n",
      "Vermont                -19.753143\n",
      "Virginia                14.274609\n",
      "Washington              10.975128\n",
      "West Virginia           50.722582\n",
      "Wisconsin               14.628889\n",
      "Wyoming                 55.818870\n",
      "Name: votergap, dtype: float64\n"
     ]
    }
   ],
   "source": [
    "votergap_state = df.groupby('state')['votergap'].mean()\n",
    "\n",
    "print(votergap_state)"
   ]
  },
  {
   "cell_type": "code",
   "execution_count": 10,
   "id": "d4d94141",
   "metadata": {},
   "outputs": [
    {
     "name": "stdout",
     "output_type": "stream",
     "text": [
      "The average voter gap, assuming all states weighted equally, is: 20.815670013022892\n"
     ]
    }
   ],
   "source": [
    "avg_states = votergap_state.mean()\n",
    "\n",
    "print(f\"The average voter gap, assuming all states weighted equally, is: {avg_states}\")"
   ]
  },
  {
   "cell_type": "markdown",
   "id": "213d206c",
   "metadata": {},
   "source": [
    "**3. Estimate the national overall votergap, assuming the entire population voted? Hint: To get the votergap overall, you will need to take the population average. Assuming everyone voted, the # of Clinton voters in a county = % Clinton votes x population.**"
   ]
  },
  {
   "cell_type": "code",
   "execution_count": 12,
   "id": "e3961fee",
   "metadata": {},
   "outputs": [
    {
     "name": "stdout",
     "output_type": "stream",
     "text": [
      "The estimated national overall voter gap, assuming the entire population voted, is: -2.7885068043713805\n"
     ]
    }
   ],
   "source": [
    "avg_population = (df['votergap'] * df['population']).sum() / df['population'].sum()\n",
    "\n",
    "print(f\"The estimated national overall voter gap, assuming the entire population voted, is: {avg_population}\")"
   ]
  },
  {
   "cell_type": "markdown",
   "id": "10855396",
   "metadata": {},
   "source": [
    "**4. What explains the difference between these quantities?**"
   ]
  },
  {
   "cell_type": "markdown",
   "id": "06fa1fad",
   "metadata": {},
   "source": [
    "The ways we try to weight the votes. We may get different results if we treat states with unequal populations differently."
   ]
  },
  {
   "cell_type": "markdown",
   "id": "b2303eaf",
   "metadata": {},
   "source": [
    "# Section 2. Decision Trees"
   ]
  },
  {
   "attachments": {
    "%E6%88%AA%E5%B1%8F2023-11-09%2018.16.48.png": {
     "image/png": "[encoded data removed]"
    }
   },
   "cell_type": "markdown",
   "id": "acaa9c8e",
   "metadata": {},
   "source": [
    "Now, we will explore the factors that predicted votergap. The predictive model will be built using a decision tree regressor. Create an 80/20 split for training the model and testing it. We will tune the depth hyperparameter using 10 folds cross validation. For this, fit decision trees having depths between 1 and 20 nodes. For accuracy, use the .score method. Information about how to fit this type of model can be found in the sklearn documentation.\n",
    "\n",
    "![%E6%88%AA%E5%B1%8F2023-11-09%2018.16.48.png](attachment:%E6%88%AA%E5%B1%8F2023-11-09%2018.16.48.png)"
   ]
  },
  {
   "cell_type": "markdown",
   "id": "d1393849",
   "metadata": {},
   "source": [
    "**1. Plot the number of nodes (max depth) on the X axis against the accuracy on the y axis, with separate lines for the training data and the mean cross validation. The following link provides information about how to plot learning curves using cross validation.**\n",
    "\n",
    "*Hint: Make sure you use the correct model.*"
   ]
  },
  {
   "cell_type": "code",
   "execution_count": 16,
   "id": "8654b3d5",
   "metadata": {},
   "outputs": [],
   "source": [
    "X = df[['population', 'hispanic', 'minority', 'female', 'unemployed', 'income', 'nodegree', 'bachelor', 'inactivity', 'obesity', 'density', 'cancer']]\n",
    "y = df[['votergap']]\n",
    "\n",
    "X_train, X_test, y_train, y_test = train_test_split(X, y, test_size = 0.2, random_state = 1)\n",
    "\n",
    "train_scores = []\n",
    "cv_means = []\n",
    "cv_stds = []\n",
    "\n",
    "max_depths = range(1, 21)"
   ]
  },
  {
   "cell_type": "code",
   "execution_count": 18,
   "id": "34007ee0",
   "metadata": {},
   "outputs": [],
   "source": [
    "for depth in max_depths:\n",
    "    tree = DecisionTreeRegressor(max_depth = depth, random_state = 42)\n",
    "    tree.fit(X_train, y_train)\n",
    "    \n",
    "    train_scores.append(tree.score(X_train, y_train))\n",
    "    cv_scores = cross_val_score(tree, X_train, y_train, cv = 10)\n",
    "    cv_means.append(np.mean(cv_scores))\n",
    "    cv_stds.append(np.std(cv_scores))"
   ]
  },
  {
   "cell_type": "code",
   "execution_count": 24,
   "id": "e1011287",
   "metadata": {},
   "outputs": [
    {
     "data": {
      "image/png": "[encoded data removed]",
      "text/plain": [
       "<Figure size 432x288 with 1 Axes>"
      ]
     },
     "metadata": {
      "needs_background": "light"
     },
     "output_type": "display_data"
    }
   ],
   "source": [
    "plt.figure()\n",
    "plt.plot(max_depths, train_scores, label = 'training scores accuracy')\n",
    "plt.plot(max_depths, cv_means, label = 'cv means accuracy')\n",
    "\n",
    "plt.fill_between(max_depths, np.array(cv_means) - np.array(cv_stds), np.array(cv_means) + np.array(cv_stds), alpha = 0.1)\n",
    "\n",
    "plt.title('Decision Tree')\n",
    "plt.xlabel('Max Depth')\n",
    "plt.ylabel('Accuracy')\n",
    "plt.legend()\n",
    "plt.show()"
   ]
  },
  {
   "cell_type": "markdown",
   "id": "d629a08f",
   "metadata": {},
   "source": [
    "**2. Based on the plot, how many nodes would you recommend as the max depth?**"
   ]
  },
  {
   "cell_type": "markdown",
   "id": "c3e3e97f",
   "metadata": {},
   "source": [
    "I would recommend to choose 6 nodes as the max depth, as the cross validation value reaches maximum at the depth of 6, which means we may get the best result at this point."
   ]
  },
  {
   "cell_type": "markdown",
   "id": "0b642d08",
   "metadata": {},
   "source": [
    "**3. The mean accuracy from cross validation starts to fall off at a certain point, why?**"
   ]
  },
  {
   "cell_type": "markdown",
   "id": "b9ba2e53",
   "metadata": {},
   "source": [
    "Because after this point, the model begins to suffer from overfitting."
   ]
  }
 ],
 "metadata": {
  "kernelspec": {
   "display_name": "Python 3 (ipykernel)",
   "language": "python",
   "name": "python3"
  },
  "language_info": {
   "codemirror_mode": {
    "name": "ipython",
    "version": 3
   },
   "file_extension": ".py",
   "mimetype": "text/x-python",
   "name": "python",
   "nbconvert_exporter": "python",
   "pygments_lexer": "ipython3",
   "version": "3.9.7"
  }
 },
 "nbformat": 4,
 "nbformat_minor": 5
}
